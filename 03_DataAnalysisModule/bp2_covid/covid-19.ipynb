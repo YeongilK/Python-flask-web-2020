{
 "metadata": {
  "language_info": {
   "codemirror_mode": {
    "name": "ipython",
    "version": 3
   },
   "file_extension": ".py",
   "mimetype": "text/x-python",
   "name": "python",
   "nbconvert_exporter": "python",
   "pygments_lexer": "ipython3",
   "version": "3.8.3-final"
  },
  "orig_nbformat": 2,
  "kernelspec": {
   "name": "Python 3.8.3 64-bit ('base': conda)",
   "display_name": "Python 3.8.3 64-bit ('base': conda)",
   "metadata": {
    "interpreter": {
     "hash": "b3ba2566441a7c06988d0923437866b63cedc61552a5af99d1f4fb67d367b25f"
    }
   }
  }
 },
 "nbformat": 4,
 "nbformat_minor": 2,
 "cells": [
  {
   "cell_type": "code",
   "execution_count": 1,
   "metadata": {},
   "outputs": [],
   "source": [
    "import requests\n",
    "import pandas as pd\n",
    "from bs4 import BeautifulSoup"
   ]
  },
  {
   "cell_type": "code",
   "execution_count": 2,
   "metadata": {},
   "outputs": [],
   "source": [
    "key_fd = open('gov_data_api_key.txt', mode='r')\n",
    "govapi_key = key_fd.read(100)\n",
    "key_fd.close()"
   ]
  },
  {
   "cell_type": "code",
   "execution_count": 3,
   "metadata": {},
   "outputs": [],
   "source": [
    "start_date = '20201001'\n",
    "end_date = '20201001'\n",
    "page = 1"
   ]
  },
  {
   "cell_type": "code",
   "execution_count": 4,
   "metadata": {},
   "outputs": [],
   "source": [
    "corona_url = 'http://openapi.data.go.kr/openapi/service/rest/Covid19/getCovid19SidoInfStateJson'\n",
    "url = f'{corona_url}?ServiceKey={govapi_key}&pageNo={page}&numOfRows=10&startCreateDt={start_date}&endCreateDt={end_date}'"
   ]
  },
  {
   "cell_type": "code",
   "execution_count": 5,
   "metadata": {},
   "outputs": [
    {
     "output_type": "stream",
     "name": "stdout",
     "text": [
      "19\n"
     ]
    }
   ],
   "source": [
    "result = requests.get(url)\n",
    "soup = BeautifulSoup(result.text, 'xml')\n",
    "resultCode = soup.find('resultCode').get_text()\n",
    "if resultCode == '00':\n",
    "    print(soup.find('totalCount').string)\n",
    "elif resultCode == '99':\n",
    "    print(soup.find('resultMsg').string)"
   ]
  },
  {
   "cell_type": "markdown",
   "metadata": {},
   "source": [
    "### 시도 발생 현황"
   ]
  },
  {
   "cell_type": "code",
   "execution_count": 6,
   "metadata": {},
   "outputs": [
    {
     "output_type": "execute_result",
     "data": {
      "text/plain": [
       "                       등록시간  사망자    확진자 광역시도 전일대비   격리해제   격리중 지역발생 해외유입  \\\n",
       "0   2020-10-01 09:41:42.122    0   1517   검역    6   1386   131    0    6   \n",
       "1   2020-10-01 09:41:42.122    0     59   제주    0     55     4    0    0   \n",
       "2   2020-10-01 09:41:42.122    0    291   경남    0    276    15    0    0   \n",
       "3   2020-10-01 09:41:42.122   56   1556   경북    5   1445    55    5    0   \n",
       "4   2020-10-01 09:41:42.122    2    170   전남    1    155    13    1    0   \n",
       "5   2020-10-01 09:41:42.122    0    128   전북    0    107    21    0    0   \n",
       "6   2020-10-01 09:41:42.122    6    487   충남    3    422    59    3    0   \n",
       "7   2020-10-01 09:41:42.122    1    172   충북    1    144    27    1    0   \n",
       "8   2020-10-01 09:41:42.121    3    224   강원    0    212     9    0    0   \n",
       "9   2020-10-01 09:41:42.121   74   4405   경기   21   3921   410   17    4   \n",
       "10  2020-10-01 09:41:42.121    0     76   세종    0     67     9    0    0   \n",
       "11  2020-10-01 09:41:42.121    2    147   울산    0    137     8    0    0   \n",
       "12  2020-10-01 09:41:42.121    4    360   대전    0    326    30    0    0   \n",
       "13  2020-10-01 09:41:42.121    3    495   광주    0    477    15    0    0   \n",
       "14  2020-10-01 09:41:42.121    8    919   인천    3    825    86    3    0   \n",
       "15   2020-10-01 09:41:42.12  195   7133   대구    1   6917    21    1    0   \n",
       "16   2020-10-01 09:41:42.12    4    427   부산    6    361    62    6    0   \n",
       "17   2020-10-01 09:41:42.12   57   5323   서울   30   4433   833   30    0   \n",
       "18   2020-10-01 09:41:42.12  415  23889   합계   77  21666  1808   67   10   \n",
       "\n",
       "     10만명당 ID               기준시간  수정시간  \n",
       "0        -     2020년 10월 01일 00시  null  \n",
       "1     8.80     2020년 10월 01일 00시  null  \n",
       "2     8.66     2020년 10월 01일 00시  null  \n",
       "3    58.44     2020년 10월 01일 00시  null  \n",
       "4     9.12     2020년 10월 01일 00시  null  \n",
       "5     7.04     2020년 10월 01일 00시  null  \n",
       "6    22.95     2020년 10월 01일 00시  null  \n",
       "7    10.75     2020년 10월 01일 00시  null  \n",
       "8    14.54     2020년 10월 01일 00시  null  \n",
       "9    33.24     2020년 10월 01일 00시  null  \n",
       "10   22.20     2020년 10월 01일 00시  null  \n",
       "11   12.82     2020년 10월 01일 00시  null  \n",
       "12   24.42     2020년 10월 01일 00시  null  \n",
       "13   33.98     2020년 10월 01일 00시  null  \n",
       "14   31.09     2020년 10월 01일 00시  null  \n",
       "15  292.76     2020년 10월 01일 00시  null  \n",
       "16   12.52     2020년 10월 01일 00시  null  \n",
       "17   54.69     2020년 10월 01일 00시  null  \n",
       "18   46.08     2020년 10월 01일 00시  null  "
      ],
      "text/html": "<div>\n<style scoped>\n    .dataframe tbody tr th:only-of-type {\n        vertical-align: middle;\n    }\n\n    .dataframe tbody tr th {\n        vertical-align: top;\n    }\n\n    .dataframe thead th {\n        text-align: right;\n    }\n</style>\n<table border=\"1\" class=\"dataframe\">\n  <thead>\n    <tr style=\"text-align: right;\">\n      <th></th>\n      <th>등록시간</th>\n      <th>사망자</th>\n      <th>확진자</th>\n      <th>광역시도</th>\n      <th>전일대비</th>\n      <th>격리해제</th>\n      <th>격리중</th>\n      <th>지역발생</th>\n      <th>해외유입</th>\n      <th>10만명당</th>\n      <th>ID</th>\n      <th>기준시간</th>\n      <th>수정시간</th>\n    </tr>\n  </thead>\n  <tbody>\n    <tr>\n      <th>0</th>\n      <td>2020-10-01 09:41:42.122</td>\n      <td>0</td>\n      <td>1517</td>\n      <td>검역</td>\n      <td>6</td>\n      <td>1386</td>\n      <td>131</td>\n      <td>0</td>\n      <td>6</td>\n      <td>-</td>\n      <td></td>\n      <td>2020년 10월 01일 00시</td>\n      <td>null</td>\n    </tr>\n    <tr>\n      <th>1</th>\n      <td>2020-10-01 09:41:42.122</td>\n      <td>0</td>\n      <td>59</td>\n      <td>제주</td>\n      <td>0</td>\n      <td>55</td>\n      <td>4</td>\n      <td>0</td>\n      <td>0</td>\n      <td>8.80</td>\n      <td></td>\n      <td>2020년 10월 01일 00시</td>\n      <td>null</td>\n    </tr>\n    <tr>\n      <th>2</th>\n      <td>2020-10-01 09:41:42.122</td>\n      <td>0</td>\n      <td>291</td>\n      <td>경남</td>\n      <td>0</td>\n      <td>276</td>\n      <td>15</td>\n      <td>0</td>\n      <td>0</td>\n      <td>8.66</td>\n      <td></td>\n      <td>2020년 10월 01일 00시</td>\n      <td>null</td>\n    </tr>\n    <tr>\n      <th>3</th>\n      <td>2020-10-01 09:41:42.122</td>\n      <td>56</td>\n      <td>1556</td>\n      <td>경북</td>\n      <td>5</td>\n      <td>1445</td>\n      <td>55</td>\n      <td>5</td>\n      <td>0</td>\n      <td>58.44</td>\n      <td></td>\n      <td>2020년 10월 01일 00시</td>\n      <td>null</td>\n    </tr>\n    <tr>\n      <th>4</th>\n      <td>2020-10-01 09:41:42.122</td>\n      <td>2</td>\n      <td>170</td>\n      <td>전남</td>\n      <td>1</td>\n      <td>155</td>\n      <td>13</td>\n      <td>1</td>\n      <td>0</td>\n      <td>9.12</td>\n      <td></td>\n      <td>2020년 10월 01일 00시</td>\n      <td>null</td>\n    </tr>\n    <tr>\n      <th>5</th>\n      <td>2020-10-01 09:41:42.122</td>\n      <td>0</td>\n      <td>128</td>\n      <td>전북</td>\n      <td>0</td>\n      <td>107</td>\n      <td>21</td>\n      <td>0</td>\n      <td>0</td>\n      <td>7.04</td>\n      <td></td>\n      <td>2020년 10월 01일 00시</td>\n      <td>null</td>\n    </tr>\n    <tr>\n      <th>6</th>\n      <td>2020-10-01 09:41:42.122</td>\n      <td>6</td>\n      <td>487</td>\n      <td>충남</td>\n      <td>3</td>\n      <td>422</td>\n      <td>59</td>\n      <td>3</td>\n      <td>0</td>\n      <td>22.95</td>\n      <td></td>\n      <td>2020년 10월 01일 00시</td>\n      <td>null</td>\n    </tr>\n    <tr>\n      <th>7</th>\n      <td>2020-10-01 09:41:42.122</td>\n      <td>1</td>\n      <td>172</td>\n      <td>충북</td>\n      <td>1</td>\n      <td>144</td>\n      <td>27</td>\n      <td>1</td>\n      <td>0</td>\n      <td>10.75</td>\n      <td></td>\n      <td>2020년 10월 01일 00시</td>\n      <td>null</td>\n    </tr>\n    <tr>\n      <th>8</th>\n      <td>2020-10-01 09:41:42.121</td>\n      <td>3</td>\n      <td>224</td>\n      <td>강원</td>\n      <td>0</td>\n      <td>212</td>\n      <td>9</td>\n      <td>0</td>\n      <td>0</td>\n      <td>14.54</td>\n      <td></td>\n      <td>2020년 10월 01일 00시</td>\n      <td>null</td>\n    </tr>\n    <tr>\n      <th>9</th>\n      <td>2020-10-01 09:41:42.121</td>\n      <td>74</td>\n      <td>4405</td>\n      <td>경기</td>\n      <td>21</td>\n      <td>3921</td>\n      <td>410</td>\n      <td>17</td>\n      <td>4</td>\n      <td>33.24</td>\n      <td></td>\n      <td>2020년 10월 01일 00시</td>\n      <td>null</td>\n    </tr>\n    <tr>\n      <th>10</th>\n      <td>2020-10-01 09:41:42.121</td>\n      <td>0</td>\n      <td>76</td>\n      <td>세종</td>\n      <td>0</td>\n      <td>67</td>\n      <td>9</td>\n      <td>0</td>\n      <td>0</td>\n      <td>22.20</td>\n      <td></td>\n      <td>2020년 10월 01일 00시</td>\n      <td>null</td>\n    </tr>\n    <tr>\n      <th>11</th>\n      <td>2020-10-01 09:41:42.121</td>\n      <td>2</td>\n      <td>147</td>\n      <td>울산</td>\n      <td>0</td>\n      <td>137</td>\n      <td>8</td>\n      <td>0</td>\n      <td>0</td>\n      <td>12.82</td>\n      <td></td>\n      <td>2020년 10월 01일 00시</td>\n      <td>null</td>\n    </tr>\n    <tr>\n      <th>12</th>\n      <td>2020-10-01 09:41:42.121</td>\n      <td>4</td>\n      <td>360</td>\n      <td>대전</td>\n      <td>0</td>\n      <td>326</td>\n      <td>30</td>\n      <td>0</td>\n      <td>0</td>\n      <td>24.42</td>\n      <td></td>\n      <td>2020년 10월 01일 00시</td>\n      <td>null</td>\n    </tr>\n    <tr>\n      <th>13</th>\n      <td>2020-10-01 09:41:42.121</td>\n      <td>3</td>\n      <td>495</td>\n      <td>광주</td>\n      <td>0</td>\n      <td>477</td>\n      <td>15</td>\n      <td>0</td>\n      <td>0</td>\n      <td>33.98</td>\n      <td></td>\n      <td>2020년 10월 01일 00시</td>\n      <td>null</td>\n    </tr>\n    <tr>\n      <th>14</th>\n      <td>2020-10-01 09:41:42.121</td>\n      <td>8</td>\n      <td>919</td>\n      <td>인천</td>\n      <td>3</td>\n      <td>825</td>\n      <td>86</td>\n      <td>3</td>\n      <td>0</td>\n      <td>31.09</td>\n      <td></td>\n      <td>2020년 10월 01일 00시</td>\n      <td>null</td>\n    </tr>\n    <tr>\n      <th>15</th>\n      <td>2020-10-01 09:41:42.12</td>\n      <td>195</td>\n      <td>7133</td>\n      <td>대구</td>\n      <td>1</td>\n      <td>6917</td>\n      <td>21</td>\n      <td>1</td>\n      <td>0</td>\n      <td>292.76</td>\n      <td></td>\n      <td>2020년 10월 01일 00시</td>\n      <td>null</td>\n    </tr>\n    <tr>\n      <th>16</th>\n      <td>2020-10-01 09:41:42.12</td>\n      <td>4</td>\n      <td>427</td>\n      <td>부산</td>\n      <td>6</td>\n      <td>361</td>\n      <td>62</td>\n      <td>6</td>\n      <td>0</td>\n      <td>12.52</td>\n      <td></td>\n      <td>2020년 10월 01일 00시</td>\n      <td>null</td>\n    </tr>\n    <tr>\n      <th>17</th>\n      <td>2020-10-01 09:41:42.12</td>\n      <td>57</td>\n      <td>5323</td>\n      <td>서울</td>\n      <td>30</td>\n      <td>4433</td>\n      <td>833</td>\n      <td>30</td>\n      <td>0</td>\n      <td>54.69</td>\n      <td></td>\n      <td>2020년 10월 01일 00시</td>\n      <td>null</td>\n    </tr>\n    <tr>\n      <th>18</th>\n      <td>2020-10-01 09:41:42.12</td>\n      <td>415</td>\n      <td>23889</td>\n      <td>합계</td>\n      <td>77</td>\n      <td>21666</td>\n      <td>1808</td>\n      <td>67</td>\n      <td>10</td>\n      <td>46.08</td>\n      <td></td>\n      <td>2020년 10월 01일 00시</td>\n      <td>null</td>\n    </tr>\n  </tbody>\n</table>\n</div>"
     },
     "metadata": {},
     "execution_count": 6
    }
   ],
   "source": [
    "createDt_list,deathCnt_list,defCnt_list,gubun_list,incDec_list = [],[],[],[],[]\n",
    "isolClearCnt_list,isolIngCnt_list,localOccCnt_list,overFlowCnt_list = [],[],[],[]\n",
    "qurRate_list,seq_list,stdDay_list,updateDt_list = [],[],[],[]\n",
    "items = soup.find_all('item')\n",
    "for item in items:\n",
    "    createDt_list.append(item.find('createDt').string if item.find('createDt') else '')\n",
    "    deathCnt_list.append(item.find('deathCnt').string if item.find('deathCnt') else '')\n",
    "    defCnt_list.append(item.find('defCnt').string if item.find('defCnt') else '')\n",
    "    gubun_list.append(item.find('gubun').string if item.find('gubun') else '')\n",
    "    incDec_list.append(item.find('incDec').string if item.find('incDec') else '')\n",
    "    isolClearCnt_list.append(item.find('isolClearCnt').string if item.find('isolClearCnt') else '')\n",
    "    isolIngCnt_list.append(item.find('isolIngCnt').string if item.find('isolIngCnt') else '')\n",
    "    localOccCnt_list.append(item.find('localOccCnt').string if item.find('localOccCnt') else '')\n",
    "    overFlowCnt_list.append(item.find('overFlowCnt').string if item.find('overFlowCnt') else '')\n",
    "    qurRate_list.append(item.find('qurRate').string if item.find('qurRate') else '')\n",
    "    seq_list.append(item.find('seq_list').string if item.find('seq_list') else '')\n",
    "    stdDay_list.append(item.find('stdDay').string if item.find('stdDay') else '')\n",
    "    updateDt_list.append(item.find('updateDt').string if item.find('updateDt') else '')\n",
    "\n",
    "df = pd.DataFrame({\n",
    "    '등록시간':createDt_list, '사망자':deathCnt_list, '확진자':defCnt_list,\n",
    "    '광역시도':gubun_list, '전일대비':incDec_list, '격리해제':isolClearCnt_list, \n",
    "    '격리중':isolIngCnt_list, '지역발생':localOccCnt_list,'해외유입':overFlowCnt_list,\n",
    "    '10만명당':qurRate_list, 'ID':seq_list, '기준시간':stdDay_list, '수정시간':updateDt_list\n",
    "})\n",
    "df"
   ]
  },
  {
   "cell_type": "markdown",
   "metadata": {},
   "source": [
    "### region 테이블 생성"
   ]
  },
  {
   "cell_type": "code",
   "execution_count": 7,
   "metadata": {},
   "outputs": [],
   "source": [
    "import sqlite3\n",
    "conn = sqlite3.connect('../db/covid.db')\n",
    "cur = conn.cursor()"
   ]
  },
  {
   "cell_type": "code",
   "execution_count": 8,
   "metadata": {},
   "outputs": [],
   "source": [
    "sql_table = '''create table if not exists region (\n",
    "  rid integer not null primary key autoincrement,\n",
    "  stdDay text not null,\n",
    "  deathCnt int not null,\n",
    "  defCnt int not null,\n",
    "  gubun text not null,\n",
    "  incDec int not null,\n",
    "  isolClearCnt int not null,\n",
    "  isolIngCnt int not null,\n",
    "  localOccCnt int not null,\n",
    "  overFlowCnt int not null,\n",
    "  qurRate float\n",
    ");'''\n",
    "cur.execute(sql_table)\n",
    "conn.commit()"
   ]
  },
  {
   "cell_type": "code",
   "execution_count": 9,
   "metadata": {},
   "outputs": [],
   "source": [
    "# 기준시간을 YYYY-MM-DD로 변환\n",
    "def change_date(x):\n",
    "    y = x.split()\n",
    "    month = y[1][:-1] if len(y[1][:-1]) == 2 else '0'+y[1][:-1]\n",
    "    day = y[2][:-1] if len(y[2][:-1]) == 2 else '0'+y[2][:-1]\n",
    "    return f'{y[0][:-1]}-{month}-{day}'"
   ]
  },
  {
   "cell_type": "code",
   "execution_count": 10,
   "metadata": {},
   "outputs": [
    {
     "output_type": "execute_result",
     "data": {
      "text/plain": [
       "['2020-10-01', 0, 1517, '검역', 6, 1386, 131, 0, 6, None]"
      ]
     },
     "metadata": {},
     "execution_count": 10
    }
   ],
   "source": [
    "params = [change_date(df['기준시간'][0]), int(df['사망자'][0]), int(df['확진자'][0]), \n",
    "          df['광역시도'][0], int(df['전일대비'][0]), int(df['격리해제'][0]), \n",
    "          int(df['격리중'][0]), int(df['지역발생'][0]), int(df['해외유입'][0])]\n",
    "params.append(None if df['10만명당'][0] == '-' else float(df['10만명당'][0]))\n",
    "params"
   ]
  },
  {
   "cell_type": "code",
   "execution_count": 13,
   "metadata": {},
   "outputs": [],
   "source": [
    "sql_insert = '''insert into region(stdDay, deathCnt, defCnt, gubun, incDec, isolClearCnt,\n",
    "isolIngCnt, localOccCnt, overFlowCnt, qurRate) values(?,?,?,?,?,?,?,?,?,?);'''"
   ]
  },
  {
   "cell_type": "markdown",
   "metadata": {},
   "source": [
    "### 3월 1일 ~ 12월 21일"
   ]
  },
  {
   "cell_type": "code",
   "execution_count": 14,
   "metadata": {},
   "outputs": [],
   "source": [
    "from tqdm import tqdm_notebook\n",
    "month_dict = {3:31, 4:30, 5:31, 6:30, 7:31, 8:31, 9:30, 10:31, 11:30, 12:21}"
   ]
  },
  {
   "cell_type": "code",
   "execution_count": 15,
   "metadata": {},
   "outputs": [
    {
     "output_type": "display_data",
     "data": {
      "text/plain": "HBox(children=(FloatProgress(value=0.0, max=10.0), HTML(value='')))",
      "application/vnd.jupyter.widget-view+json": {
       "version_major": 2,
       "version_minor": 0,
       "model_id": "c26d1271cfe54cc5adbe795a30a8d9ad"
      }
     },
     "metadata": {}
    },
    {
     "output_type": "stream",
     "name": "stdout",
     "text": [
      "\n"
     ]
    }
   ],
   "source": [
    "for k, v in tqdm_notebook(month_dict.items()):\n",
    "    month = str(k) if k >= 10 else f'0{k}'\n",
    "    for i in range(1, v+1):\n",
    "        day = str(i) if i >= 10 else f'0{i}'\n",
    "        date = f'2020{month}{day}'\n",
    "        #print(date)\n",
    "        page = 1\n",
    "        url = f'{corona_url}?ServiceKey={govapi_key}&pageNo={page}&numOfRows=10&startCreateDt={date}&endCreateDt={date}'\n",
    "        soup = BeautifulSoup(requests.get(url).text, 'xml')\n",
    "\n",
    "        items = soup.find_all('item')\n",
    "        item_count = len(items)\n",
    "        if item_count == 0:\n",
    "            continue\n",
    "        for index, item in enumerate(items):\n",
    "            if item_count > 30 and index >= int(item_count/2):\n",
    "                break\n",
    "            stdDay = change_date(item.find('stdDay').string)\n",
    "            deathCnt = int(item.find('deathCnt').string) if item.find('deathCnt') else 0\n",
    "            defCnt = int(item.find('defCnt').string) if item.find('defCnt') else 0\n",
    "            gubun = item.find('gubun').string\n",
    "            incDec = int(item.find('incDec').string)\n",
    "            isolClearCnt = int(item.find('isolClearCnt').string) if item.find('isolClearCnt') else 0\n",
    "            isolIngCnt = int(item.find('isolIngCnt').string) if item.find('isolIngCnt') else 0\n",
    "            localOccCnt = int(item.find('localOccCnt').string) if item.find('localOccCnt') else 0\n",
    "            overFlowCnt = int(item.find('overFlowCnt').string) if item.find('overFlowCnt') else 0\n",
    "            qurRate = None\n",
    "            if item.find('qurRate'):\n",
    "                qur = item.find('qurRate').string\n",
    "                if qur != None and qur.count('.') == 2:\n",
    "                    qur = qur[:-1]\n",
    "                #print(qur)\n",
    "                if qur != None and qur[0] in '0123456789':\n",
    "                    qurRate = float(qur)\n",
    "        \n",
    "            params = [stdDay, deathCnt, defCnt, gubun, incDec, isolClearCnt, isolIngCnt, \n",
    "                    localOccCnt, overFlowCnt, qurRate]\n",
    "            #print(params)\n",
    "            cur.execute(sql_insert, params)\n",
    "            conn.commit()"
   ]
  },
  {
   "cell_type": "code",
   "execution_count": 43,
   "metadata": {},
   "outputs": [],
   "source": [
    "cur.close()\n",
    "conn.close()"
   ]
  },
  {
   "cell_type": "markdown",
   "metadata": {},
   "source": [
    "### 연령별, 성별 현황"
   ]
  },
  {
   "cell_type": "code",
   "execution_count": 16,
   "metadata": {},
   "outputs": [],
   "source": [
    "start_date = '20201001'\n",
    "end_date = '20201001'\n",
    "page = 1"
   ]
  },
  {
   "cell_type": "code",
   "execution_count": 17,
   "metadata": {},
   "outputs": [],
   "source": [
    "corona_url = 'http://openapi.data.go.kr/openapi/service/rest/Covid19/getCovid19GenAgeCaseInfJson'\n",
    "url = f'{corona_url}?ServiceKey={govapi_key}&pageNo={page}&numOfRows=10&startCreateDt={start_date}&endCreateDt={end_date}'"
   ]
  },
  {
   "cell_type": "code",
   "execution_count": 18,
   "metadata": {},
   "outputs": [
    {
     "output_type": "stream",
     "name": "stdout",
     "text": [
      "11\n"
     ]
    }
   ],
   "source": [
    "result = requests.get(url)\n",
    "soup = BeautifulSoup(result.text, 'xml')\n",
    "resultCode = soup.find('resultCode').get_text()\n",
    "if resultCode == '00':\n",
    "    print(soup.find('totalCount').string)\n",
    "elif resultCode == '99':\n",
    "    print(soup.find('resultMsg').string)"
   ]
  },
  {
   "cell_type": "code",
   "execution_count": 20,
   "metadata": {},
   "outputs": [
    {
     "output_type": "execute_result",
     "data": {
      "text/plain": [
       "                       등록시간    확진자    확진률  사망자    사망률    치명률     구분    ID  \\\n",
       "0   2020-10-01 14:25:26.073    584   2.44    0   0.00      0    0-9  3720   \n",
       "1   2020-10-01 14:25:26.073   1310   5.48    0   0.00      0  10-19  3719   \n",
       "2   2020-10-01 14:25:26.073   4769  19.96    0   0.00      0  20-29  3718   \n",
       "3   2020-10-01 14:25:26.073   2917  12.21    2   0.48   0.07  30-39  3717   \n",
       "4   2020-10-01 14:25:26.073   3192  13.36    4   0.96   0.13  40-49  3716   \n",
       "5   2020-10-01 14:25:26.073   4434  18.56   19   4.58   0.43  50-59  3715   \n",
       "6   2020-10-01 14:25:26.073   3795  15.89   44  10.60   1.16  60-69  3714   \n",
       "7   2020-10-01 14:25:26.073   1913   8.01  138  33.25   7.21  70-79  3713   \n",
       "8   2020-10-01 14:25:26.072    975   4.08  208  50.12  21.33  80 이상  3712   \n",
       "9   2020-10-01 14:25:26.072  12882  53.92  196  47.23   1.52     여성  3711   \n",
       "10  2020-10-01 14:25:26.072  11007  46.08  219  52.77   1.99     남성  3710   \n",
       "\n",
       "    수정시간  \n",
       "0   null  \n",
       "1   null  \n",
       "2   null  \n",
       "3   null  \n",
       "4   null  \n",
       "5   null  \n",
       "6   null  \n",
       "7   null  \n",
       "8   null  \n",
       "9   null  \n",
       "10  null  "
      ],
      "text/html": "<div>\n<style scoped>\n    .dataframe tbody tr th:only-of-type {\n        vertical-align: middle;\n    }\n\n    .dataframe tbody tr th {\n        vertical-align: top;\n    }\n\n    .dataframe thead th {\n        text-align: right;\n    }\n</style>\n<table border=\"1\" class=\"dataframe\">\n  <thead>\n    <tr style=\"text-align: right;\">\n      <th></th>\n      <th>등록시간</th>\n      <th>확진자</th>\n      <th>확진률</th>\n      <th>사망자</th>\n      <th>사망률</th>\n      <th>치명률</th>\n      <th>구분</th>\n      <th>ID</th>\n      <th>수정시간</th>\n    </tr>\n  </thead>\n  <tbody>\n    <tr>\n      <th>0</th>\n      <td>2020-10-01 14:25:26.073</td>\n      <td>584</td>\n      <td>2.44</td>\n      <td>0</td>\n      <td>0.00</td>\n      <td>0</td>\n      <td>0-9</td>\n      <td>3720</td>\n      <td>null</td>\n    </tr>\n    <tr>\n      <th>1</th>\n      <td>2020-10-01 14:25:26.073</td>\n      <td>1310</td>\n      <td>5.48</td>\n      <td>0</td>\n      <td>0.00</td>\n      <td>0</td>\n      <td>10-19</td>\n      <td>3719</td>\n      <td>null</td>\n    </tr>\n    <tr>\n      <th>2</th>\n      <td>2020-10-01 14:25:26.073</td>\n      <td>4769</td>\n      <td>19.96</td>\n      <td>0</td>\n      <td>0.00</td>\n      <td>0</td>\n      <td>20-29</td>\n      <td>3718</td>\n      <td>null</td>\n    </tr>\n    <tr>\n      <th>3</th>\n      <td>2020-10-01 14:25:26.073</td>\n      <td>2917</td>\n      <td>12.21</td>\n      <td>2</td>\n      <td>0.48</td>\n      <td>0.07</td>\n      <td>30-39</td>\n      <td>3717</td>\n      <td>null</td>\n    </tr>\n    <tr>\n      <th>4</th>\n      <td>2020-10-01 14:25:26.073</td>\n      <td>3192</td>\n      <td>13.36</td>\n      <td>4</td>\n      <td>0.96</td>\n      <td>0.13</td>\n      <td>40-49</td>\n      <td>3716</td>\n      <td>null</td>\n    </tr>\n    <tr>\n      <th>5</th>\n      <td>2020-10-01 14:25:26.073</td>\n      <td>4434</td>\n      <td>18.56</td>\n      <td>19</td>\n      <td>4.58</td>\n      <td>0.43</td>\n      <td>50-59</td>\n      <td>3715</td>\n      <td>null</td>\n    </tr>\n    <tr>\n      <th>6</th>\n      <td>2020-10-01 14:25:26.073</td>\n      <td>3795</td>\n      <td>15.89</td>\n      <td>44</td>\n      <td>10.60</td>\n      <td>1.16</td>\n      <td>60-69</td>\n      <td>3714</td>\n      <td>null</td>\n    </tr>\n    <tr>\n      <th>7</th>\n      <td>2020-10-01 14:25:26.073</td>\n      <td>1913</td>\n      <td>8.01</td>\n      <td>138</td>\n      <td>33.25</td>\n      <td>7.21</td>\n      <td>70-79</td>\n      <td>3713</td>\n      <td>null</td>\n    </tr>\n    <tr>\n      <th>8</th>\n      <td>2020-10-01 14:25:26.072</td>\n      <td>975</td>\n      <td>4.08</td>\n      <td>208</td>\n      <td>50.12</td>\n      <td>21.33</td>\n      <td>80 이상</td>\n      <td>3712</td>\n      <td>null</td>\n    </tr>\n    <tr>\n      <th>9</th>\n      <td>2020-10-01 14:25:26.072</td>\n      <td>12882</td>\n      <td>53.92</td>\n      <td>196</td>\n      <td>47.23</td>\n      <td>1.52</td>\n      <td>여성</td>\n      <td>3711</td>\n      <td>null</td>\n    </tr>\n    <tr>\n      <th>10</th>\n      <td>2020-10-01 14:25:26.072</td>\n      <td>11007</td>\n      <td>46.08</td>\n      <td>219</td>\n      <td>52.77</td>\n      <td>1.99</td>\n      <td>남성</td>\n      <td>3710</td>\n      <td>null</td>\n    </tr>\n  </tbody>\n</table>\n</div>"
     },
     "metadata": {},
     "execution_count": 20
    }
   ],
   "source": [
    "createDt_list,confCase_list,confCaseRate_list,death_list,deathRate_list = [],[],[],[],[]\n",
    "gubun_list,criticalRate_list,seq_list,updateDt_list = [],[],[],[]\n",
    "items = soup.find_all('item')\n",
    "for item in items:\n",
    "    createDt_list.append(item.find('createDt').string if item.find('createDt') else '')\n",
    "    confCase_list.append(item.find('confCase').string if item.find('confCase') else '')\n",
    "    confCaseRate_list.append(item.find('confCaseRate').string if item.find('confCaseRate') else '')\n",
    "    death_list.append(item.find('death').string if item.find('death') else '')\n",
    "    deathRate_list.append(item.find('deathRate').string if item.find('deathRate') else '')\n",
    "    criticalRate_list.append(item.find('criticalRate').string if item.find('criticalRate') else '')\n",
    "    gubun_list.append(item.find('gubun').string if item.find('gubun') else '')\n",
    "    seq_list.append(item.find('seq').string if item.find('seq') else '')\n",
    "    updateDt_list.append(item.find('updateDt').string if item.find('updateDt') else '')\n",
    "\n",
    "df = pd.DataFrame({\n",
    "    '등록시간':createDt_list, '확진자':confCase_list, '확진률':confCaseRate_list,\n",
    "    '사망자':death_list, '사망률':deathRate_list, '치명률':criticalRate_list, \n",
    "    '구분':gubun_list, 'ID':seq_list, '수정시간':updateDt_list\n",
    "})\n",
    "df"
   ]
  },
  {
   "cell_type": "markdown",
   "metadata": {},
   "source": [
    "### agender 테이블 생성"
   ]
  },
  {
   "cell_type": "code",
   "execution_count": 21,
   "metadata": {},
   "outputs": [],
   "source": [
    "conn = sqlite3.connect('../db/covid.db')\n",
    "cur = conn.cursor()"
   ]
  },
  {
   "cell_type": "code",
   "execution_count": 22,
   "metadata": {},
   "outputs": [],
   "source": [
    "sql_table = '''create table if not exists agender (\n",
    "  agid integer not null primary key autoincrement,\n",
    "  stdDay text not null,\n",
    "  confCase int not null,\n",
    "  confCaseRate float not null,\n",
    "  death int not null,\n",
    "  deathRate float not null,\n",
    "  criticalRate float not null,\n",
    "  gubun text not null,\n",
    "  seq int,\n",
    "  updateDt text);\n",
    "'''\n",
    "cur.execute(sql_table)\n",
    "conn.commit()"
   ]
  },
  {
   "cell_type": "code",
   "execution_count": 23,
   "metadata": {},
   "outputs": [
    {
     "output_type": "display_data",
     "data": {
      "text/plain": "HBox(children=(FloatProgress(value=0.0, max=10.0), HTML(value='')))",
      "application/vnd.jupyter.widget-view+json": {
       "version_major": 2,
       "version_minor": 0,
       "model_id": "0d9d897bdffa4710ab701c4806cd840f"
      }
     },
     "metadata": {}
    },
    {
     "output_type": "stream",
     "name": "stdout",
     "text": [
      "3월: 1-0, 2-0, 3-0, 4-0, 5-0, 6-0, 7-0, 8-0, 9-0, 10-0, 11-0, 12-0, 13-0, 14-0, 15-0, 16-0, 17-0, 18-0, 19-0, 20-0, 21-0, 22-0, 23-0, 24-0, 25-0, 26-0, 27-0, 28-0, 29-0, 30-0, 31-0, \n",
      "4월: 1-0, 2-11, 3-0, 4-0, 5-0, 6-0, 7-12, 8-11, 9-11, 10-11, 11-11, 12-11, 13-11, 14-11, 15-11, 16-11, 17-11, 18-11, 19-11, 20-11, 21-11, 22-11, 23-11, 24-11, 25-11, 26-11, 27-11, 28-11, 29-11, 30-11, \n",
      "5월: 1-11, 2-11, 3-11, 4-11, 5-11, 6-11, 7-11, 8-11, 9-11, 10-11, 11-11, 12-11, 13-11, 14-11, 15-11, 16-11, 17-11, 18-11, 19-11, 20-11, 21-11, 22-0, 23-11, 24-11, 25-11, 26-11, 27-11, 28-11, 29-11, 30-11, 31-11, \n",
      "6월: 1-0, 2-11, 3-11, 4-11, 5-11, 6-11, 7-11, 8-11, 9-11, 10-11, 11-11, 12-11, 13-11, 14-11, 15-0, 16-11, 17-11, 18-11, 19-11, 20-11, 21-11, 22-11, 23-11, 24-11, 25-11, 26-11, 27-11, 28-11, 29-11, 30-11, \n",
      "7월: 1-11, 2-11, 3-11, 4-11, 5-11, 6-11, 7-11, 8-11, 9-11, 10-11, 11-11, 12-11, 13-11, 14-11, 15-11, 16-11, 17-11, 18-11, 19-11, 20-11, 21-11, 22-11, 23-11, 24-11, 25-11, 26-11, 27-11, 28-11, 29-11, 30-11, 31-11, \n",
      "8월: 1-11, 2-11, 3-11, 4-11, 5-11, 6-11, 7-11, 8-11, 9-11, 10-11, 11-11, 12-11, 13-11, 14-11, 15-11, 16-11, 17-11, 18-11, 19-11, 20-11, 21-11, 22-11, 23-11, 24-11, 25-11, 26-11, 27-11, 28-11, 29-11, 30-11, 31-11, \n",
      "9월: 1-11, 2-11, 3-11, 4-11, 5-11, 6-11, 7-11, 8-11, 9-11, 10-11, 11-11, 12-11, 13-11, 14-11, 15-11, 16-11, 17-11, 18-11, 19-11, 20-11, 21-11, 22-11, 23-11, 24-11, 25-11, 26-11, 27-11, 28-11, 29-11, 30-11, \n",
      "10월: 1-11, 2-11, 3-11, 4-11, 5-11, 6-11, 7-11, 8-11, 9-0, 10-11, 11-11, 12-11, 13-11, 14-11, 15-11, 16-11, 17-11, 18-11, 19-11, 20-11, 21-11, 22-11, 23-11, 24-11, 25-11, 26-11, 27-11, 28-11, 29-11, 30-11, 31-11, \n",
      "11월: 1-11, 2-11, 3-11, 4-11, 5-11, 6-22, 7-11, 8-11, 9-11, 10-11, 11-11, 12-11, 13-11, 14-11, 15-11, 16-11, 17-11, 18-11, 19-11, 20-11, 21-11, 22-11, 23-11, 24-11, 25-11, 26-11, 27-11, 28-11, 29-11, 30-11, \n",
      "12월: 1-11, 2-11, 3-11, 4-11, 5-11, 6-11, 7-11, 8-11, 9-11, 10-11, 11-11, 12-11, 13-11, 14-11, 15-11, 16-11, 17-11, 18-11, 19-11, 20-11, 21-11, \n",
      "\n"
     ]
    }
   ],
   "source": [
    "month_dict = {3:31, 4:30, 5:31, 6:30, 7:31, 8:31, 9:30, 10:31, 11:30, 12:21}\n",
    "for k, v in tqdm_notebook(month_dict.items()):\n",
    "    month = str(k) if k >= 10 else f'0{k}'\n",
    "    print(f'{k}월: ', end='')\n",
    "    for i in range(1, v+1):\n",
    "        day = str(i) if i >= 10 else f'0{i}'\n",
    "        print(f'{i}-', end='')\n",
    "        date = f'2020{month}{day}'\n",
    "        page = 1\n",
    "        url = f'{corona_url}?ServiceKey={govapi_key}&pageNo={page}&numOfRows=10&startCreateDt={date}&endCreateDt={date}'\n",
    "        soup = BeautifulSoup(requests.get(url).text, 'xml')\n",
    "\n",
    "        items = soup.find_all('item')\n",
    "        item_count = len(items)\n",
    "        print(f'{item_count}, ', end='')\n",
    "    print()"
   ]
  },
  {
   "cell_type": "code",
   "execution_count": 24,
   "metadata": {},
   "outputs": [],
   "source": [
    "sql_insert = '''insert into agender(stdDay, confCase, confCaseRate, death, deathRate,\n",
    "criticalRate, gubun, seq, updateDt) values(?,?,?,?,?,?,?,?,?);\n",
    "'''"
   ]
  },
  {
   "cell_type": "code",
   "execution_count": 25,
   "metadata": {},
   "outputs": [
    {
     "output_type": "display_data",
     "data": {
      "text/plain": "HBox(children=(FloatProgress(value=0.0, max=9.0), HTML(value='')))",
      "application/vnd.jupyter.widget-view+json": {
       "version_major": 2,
       "version_minor": 0,
       "model_id": "515d2e8e7bd54798872a2fcf0c0a67f6"
      }
     },
     "metadata": {}
    },
    {
     "output_type": "stream",
     "name": "stdout",
     "text": [
      "\n"
     ]
    }
   ],
   "source": [
    "# 3월은 데이터가 없으니 4월부터 시작함\n",
    "month_dict = {4:30, 5:31, 6:30, 7:31, 8:31, 9:30, 10:31, 11:30, 12:21}\n",
    "for k, v in tqdm_notebook(month_dict.items()):\n",
    "    month = str(k) if k >= 10 else f'0{k}'\n",
    "    for i in range(1, v+1):\n",
    "        day = str(i) if i >= 10 else f'0{i}'\n",
    "        date = f'2020{month}{day}'\n",
    "        page = 1\n",
    "        url = f'{corona_url}?ServiceKey={govapi_key}&pageNo={page}&numOfRows=10&startCreateDt={date}&endCreateDt={date}'\n",
    "        soup = BeautifulSoup(requests.get(url).text, 'xml')\n",
    "\n",
    "        items = soup.find_all('item')\n",
    "        item_count = len(items)\n",
    "        if item_count == 0:\n",
    "            continue\n",
    "\n",
    "        for item in items:\n",
    "            createDt = item.find('createDt').string.split(' ')[0]\n",
    "            confCase = int(item.find('confCase').string)\n",
    "            confCaseRate = float(item.find('confCaseRate').string)\n",
    "            death = int(item.find('death').string)\n",
    "            deathRate = float(item.find('deathRate').string)\n",
    "            criticalRate = float(item.find('criticalRate').string)\n",
    "            gubun = item.find('gubun').string\n",
    "            seq = int(item.find('seq').string)\n",
    "            updateDt = item.find('updateDt').string\n",
    "\n",
    "            params = [createDt, confCase, confCaseRate, death, deathRate, criticalRate,\n",
    "                      gubun,seq,updateDt]\n",
    "            cur.execute(sql_insert, params)\n",
    "            conn.commit()"
   ]
  },
  {
   "cell_type": "code",
   "execution_count": 26,
   "metadata": {},
   "outputs": [],
   "source": [
    "cur.close()\n",
    "conn.close()"
   ]
  },
  {
   "cell_type": "markdown",
   "metadata": {},
   "source": [
    "### 해외 발생 현황"
   ]
  },
  {
   "cell_type": "code",
   "execution_count": 27,
   "metadata": {},
   "outputs": [],
   "source": [
    "start_date = '20201001'\n",
    "end_date = '20201001'\n",
    "page = 1"
   ]
  },
  {
   "cell_type": "code",
   "execution_count": 28,
   "metadata": {},
   "outputs": [],
   "source": [
    "corona_url = 'http://openapi.data.go.kr/openapi/service/rest/Covid19/getCovid19NatInfStateJson'\n",
    "url = f'{corona_url}?ServiceKey={govapi_key}&pageNo={page}&numOfRows=10&startCreateDt={start_date}&endCreateDt={end_date}'"
   ]
  },
  {
   "cell_type": "code",
   "execution_count": 29,
   "metadata": {},
   "outputs": [
    {
     "output_type": "stream",
     "name": "stdout",
     "text": [
      "186\n"
     ]
    }
   ],
   "source": [
    "result = requests.get(url)\n",
    "soup = BeautifulSoup(result.text, 'xml')\n",
    "resultCode = soup.find('resultCode').get_text()\n",
    "if resultCode == '00':\n",
    "    print(soup.find('totalCount').string)\n",
    "elif resultCode == '99':\n",
    "    print(soup.find('resultMsg').string)"
   ]
  },
  {
   "cell_type": "code",
   "execution_count": 33,
   "metadata": {},
   "outputs": [
    {
     "output_type": "execute_result",
     "data": {
      "text/plain": [
       "    대륙명(한글) 대륙명(중문) 대륙명(영문)                     등록시간   사망자           사망율  \\\n",
       "0        기타      其他  Others  2020-10-01 10:31:33.605  1440  1.0494938378   \n",
       "1      아프리카      非洲  Africa  2020-10-01 10:31:33.605    35  2.2364217252   \n",
       "2      아프리카      非洲  Africa  2020-10-01 10:31:33.605     7  1.4644351464   \n",
       "3      아프리카      非洲  Africa  2020-10-01 10:31:33.605    15  1.6465422612   \n",
       "4      아프리카      非洲  Africa  2020-10-01 10:31:33.605    49  1.8121301775   \n",
       "..      ...     ...     ...                      ...   ...           ...   \n",
       "181     아시아      亚洲    Asia  2020-10-01 10:31:31.906     0           0.0   \n",
       "182     아시아      亚洲    Asia  2020-10-01 10:31:31.905     7  1.3618677042   \n",
       "183     아시아      亚洲    Asia  2020-10-01 10:31:31.905   105  2.0640849223   \n",
       "184     아시아      亚洲    Asia  2020-10-01 10:31:31.905  4634  5.4253401081   \n",
       "185     아시아      亚洲    Asia  2020-10-01 10:31:31.905   415  1.7372012223   \n",
       "\n",
       "        확진자  국가명(한글)   국가명(중문)                국가명(영문)     ID  \\\n",
       "0    137209  기타지역 영토        其他                 Others  49056   \n",
       "1      1565      레소토       萊索托                Lesotho  49055   \n",
       "2       478      코모로       科摩羅                Comoros  49054   \n",
       "3       911  상투메프린시페  聖多美和普林西比  Sao Tome and Principe  49053   \n",
       "4      2704      남수단       南蘇丹            South Sudan  49052   \n",
       "..      ...      ...       ...                    ...    ...   \n",
       "181      46      마카오        澳门                  Macau  48875   \n",
       "182     514       대만        台湾                 Taiwan  48874   \n",
       "183    5087       홍콩        香港              Hong Kong  48873   \n",
       "184   85414       중국        中国                  China  48872   \n",
       "185   23889       한국        韓国            South Korea  48871   \n",
       "\n",
       "                  기준시간  수정시간  \n",
       "0    2020년 10월 01일 09시  null  \n",
       "1    2020년 10월 01일 09시  null  \n",
       "2    2020년 10월 01일 09시  null  \n",
       "3    2020년 10월 01일 09시  null  \n",
       "4    2020년 10월 01일 09시  null  \n",
       "..                 ...   ...  \n",
       "181  2020년 10월 01일 09시  null  \n",
       "182  2020년 10월 01일 09시  null  \n",
       "183  2020년 10월 01일 09시  null  \n",
       "184  2020년 10월 01일 09시  null  \n",
       "185  2020년 10월 01일 00시  null  \n",
       "\n",
       "[186 rows x 13 columns]"
      ],
      "text/html": "<div>\n<style scoped>\n    .dataframe tbody tr th:only-of-type {\n        vertical-align: middle;\n    }\n\n    .dataframe tbody tr th {\n        vertical-align: top;\n    }\n\n    .dataframe thead th {\n        text-align: right;\n    }\n</style>\n<table border=\"1\" class=\"dataframe\">\n  <thead>\n    <tr style=\"text-align: right;\">\n      <th></th>\n      <th>대륙명(한글)</th>\n      <th>대륙명(중문)</th>\n      <th>대륙명(영문)</th>\n      <th>등록시간</th>\n      <th>사망자</th>\n      <th>사망율</th>\n      <th>확진자</th>\n      <th>국가명(한글)</th>\n      <th>국가명(중문)</th>\n      <th>국가명(영문)</th>\n      <th>ID</th>\n      <th>기준시간</th>\n      <th>수정시간</th>\n    </tr>\n  </thead>\n  <tbody>\n    <tr>\n      <th>0</th>\n      <td>기타</td>\n      <td>其他</td>\n      <td>Others</td>\n      <td>2020-10-01 10:31:33.605</td>\n      <td>1440</td>\n      <td>1.0494938378</td>\n      <td>137209</td>\n      <td>기타지역 영토</td>\n      <td>其他</td>\n      <td>Others</td>\n      <td>49056</td>\n      <td>2020년 10월 01일 09시</td>\n      <td>null</td>\n    </tr>\n    <tr>\n      <th>1</th>\n      <td>아프리카</td>\n      <td>非洲</td>\n      <td>Africa</td>\n      <td>2020-10-01 10:31:33.605</td>\n      <td>35</td>\n      <td>2.2364217252</td>\n      <td>1565</td>\n      <td>레소토</td>\n      <td>萊索托</td>\n      <td>Lesotho</td>\n      <td>49055</td>\n      <td>2020년 10월 01일 09시</td>\n      <td>null</td>\n    </tr>\n    <tr>\n      <th>2</th>\n      <td>아프리카</td>\n      <td>非洲</td>\n      <td>Africa</td>\n      <td>2020-10-01 10:31:33.605</td>\n      <td>7</td>\n      <td>1.4644351464</td>\n      <td>478</td>\n      <td>코모로</td>\n      <td>科摩羅</td>\n      <td>Comoros</td>\n      <td>49054</td>\n      <td>2020년 10월 01일 09시</td>\n      <td>null</td>\n    </tr>\n    <tr>\n      <th>3</th>\n      <td>아프리카</td>\n      <td>非洲</td>\n      <td>Africa</td>\n      <td>2020-10-01 10:31:33.605</td>\n      <td>15</td>\n      <td>1.6465422612</td>\n      <td>911</td>\n      <td>상투메프린시페</td>\n      <td>聖多美和普林西比</td>\n      <td>Sao Tome and Principe</td>\n      <td>49053</td>\n      <td>2020년 10월 01일 09시</td>\n      <td>null</td>\n    </tr>\n    <tr>\n      <th>4</th>\n      <td>아프리카</td>\n      <td>非洲</td>\n      <td>Africa</td>\n      <td>2020-10-01 10:31:33.605</td>\n      <td>49</td>\n      <td>1.8121301775</td>\n      <td>2704</td>\n      <td>남수단</td>\n      <td>南蘇丹</td>\n      <td>South Sudan</td>\n      <td>49052</td>\n      <td>2020년 10월 01일 09시</td>\n      <td>null</td>\n    </tr>\n    <tr>\n      <th>...</th>\n      <td>...</td>\n      <td>...</td>\n      <td>...</td>\n      <td>...</td>\n      <td>...</td>\n      <td>...</td>\n      <td>...</td>\n      <td>...</td>\n      <td>...</td>\n      <td>...</td>\n      <td>...</td>\n      <td>...</td>\n      <td>...</td>\n    </tr>\n    <tr>\n      <th>181</th>\n      <td>아시아</td>\n      <td>亚洲</td>\n      <td>Asia</td>\n      <td>2020-10-01 10:31:31.906</td>\n      <td>0</td>\n      <td>0.0</td>\n      <td>46</td>\n      <td>마카오</td>\n      <td>澳门</td>\n      <td>Macau</td>\n      <td>48875</td>\n      <td>2020년 10월 01일 09시</td>\n      <td>null</td>\n    </tr>\n    <tr>\n      <th>182</th>\n      <td>아시아</td>\n      <td>亚洲</td>\n      <td>Asia</td>\n      <td>2020-10-01 10:31:31.905</td>\n      <td>7</td>\n      <td>1.3618677042</td>\n      <td>514</td>\n      <td>대만</td>\n      <td>台湾</td>\n      <td>Taiwan</td>\n      <td>48874</td>\n      <td>2020년 10월 01일 09시</td>\n      <td>null</td>\n    </tr>\n    <tr>\n      <th>183</th>\n      <td>아시아</td>\n      <td>亚洲</td>\n      <td>Asia</td>\n      <td>2020-10-01 10:31:31.905</td>\n      <td>105</td>\n      <td>2.0640849223</td>\n      <td>5087</td>\n      <td>홍콩</td>\n      <td>香港</td>\n      <td>Hong Kong</td>\n      <td>48873</td>\n      <td>2020년 10월 01일 09시</td>\n      <td>null</td>\n    </tr>\n    <tr>\n      <th>184</th>\n      <td>아시아</td>\n      <td>亚洲</td>\n      <td>Asia</td>\n      <td>2020-10-01 10:31:31.905</td>\n      <td>4634</td>\n      <td>5.4253401081</td>\n      <td>85414</td>\n      <td>중국</td>\n      <td>中国</td>\n      <td>China</td>\n      <td>48872</td>\n      <td>2020년 10월 01일 09시</td>\n      <td>null</td>\n    </tr>\n    <tr>\n      <th>185</th>\n      <td>아시아</td>\n      <td>亚洲</td>\n      <td>Asia</td>\n      <td>2020-10-01 10:31:31.905</td>\n      <td>415</td>\n      <td>1.7372012223</td>\n      <td>23889</td>\n      <td>한국</td>\n      <td>韓国</td>\n      <td>South Korea</td>\n      <td>48871</td>\n      <td>2020년 10월 01일 00시</td>\n      <td>null</td>\n    </tr>\n  </tbody>\n</table>\n<p>186 rows × 13 columns</p>\n</div>"
     },
     "metadata": {},
     "execution_count": 33
    }
   ],
   "source": [
    "areaNm_list, areaNmCn_list, areaNmEn_list, createDt_list, natDeathCnt_list = [],[],[],[],[]\n",
    "natDeathRate_list, natDefCnt_list, nationNm_list, nationNmCn_list = [],[],[],[]\n",
    "nationNmEn_list, seq_list, stdDay_list, updateDt_list = [], [], [], []\n",
    "items = soup.find_all('item')\n",
    "for item in items:\n",
    "    areaNm_list.append(item.find('areaNm').string if item.find('areaNm') else '')\n",
    "    areaNmCn_list.append(item.find('areaNmCn').string if item.find('areaNmCn') else '')\n",
    "    areaNmEn_list.append(item.find('areaNmEn').string if item.find('areaNmEn') else '')\n",
    "    createDt_list.append(item.find('createDt').string if item.find('createDt') else '')\n",
    "    natDeathCnt_list.append(item.find('natDeathCnt').string if item.find('natDeathCnt') else '')\n",
    "    natDeathRate_list.append(item.find('natDeathRate').string if item.find('natDeathRate') else '')\n",
    "    natDefCnt_list.append(item.find('natDefCnt').string if item.find('natDefCnt') else '')\n",
    "    nationNm_list.append(item.find('nationNm').string if item.find('nationNm') else '')\n",
    "    nationNmCn_list.append(item.find('nationNmCn').string if item.find('nationNmCn') else '')\n",
    "    nationNmEn_list.append(item.find('nationNmEn').string if item.find('nationNmEn') else '')\n",
    "    seq_list.append(item.find('seq').string if item.find('seq') else '')\n",
    "    stdDay_list.append(item.find('stdDay').string if item.find('stdDay') else '')\n",
    "    updateDt_list.append(item.find('updateDt').string if item.find('updateDt') else '')\n",
    "\n",
    "df = pd.DataFrame({\n",
    "    '대륙명(한글)': areaNm_list, '대륙명(중문)': areaNmCn_list, '대륙명(영문)': areaNmEn_list,\n",
    "    '등록시간': createDt_list, '사망자': natDeathCnt_list, '사망율': natDeathRate_list, \n",
    "    '확진자': natDefCnt_list, '국가명(한글)': nationNm_list, '국가명(중문)': nationNmCn_list,\n",
    "    '국가명(영문)': nationNmEn_list, 'ID': seq_list, '기준시간': stdDay_list,\n",
    "    '수정시간': updateDt_list\n",
    "})\n",
    "df"
   ]
  },
  {
   "cell_type": "markdown",
   "metadata": {},
   "source": [
    "### overseas 테이블 생성"
   ]
  },
  {
   "cell_type": "code",
   "execution_count": 34,
   "metadata": {},
   "outputs": [],
   "source": [
    "conn = sqlite3.connect('../db/covid.db')\n",
    "cur = conn.cursor()"
   ]
  },
  {
   "cell_type": "code",
   "execution_count": 35,
   "metadata": {},
   "outputs": [],
   "source": [
    "sql_table = '''create table if not exists overseas (\n",
    "  ovid integer not null primary key autoincrement,\n",
    "  stdDay text not null,\n",
    "  areaNm text not null,\n",
    "  nationNm text not null,\n",
    "  deathCnt int not null,\n",
    "  deathRate float not null,\n",
    "  defCnt int not null);\n",
    "'''\n",
    "cur.execute(sql_table)\n",
    "conn.commit()"
   ]
  },
  {
   "cell_type": "code",
   "execution_count": 36,
   "metadata": {},
   "outputs": [
    {
     "output_type": "display_data",
     "data": {
      "text/plain": "HBox(children=(FloatProgress(value=0.0, max=10.0), HTML(value='')))",
      "application/vnd.jupyter.widget-view+json": {
       "version_major": 2,
       "version_minor": 0,
       "model_id": "572b93813b0c44e1b561b15ae77c0dec"
      }
     },
     "metadata": {}
    },
    {
     "output_type": "stream",
     "name": "stdout",
     "text": [
      "3월: 1-0, 2-0, 3-0, 4-0, 5-0, 6-0, 7-0, 8-0, 9-0, 10-0, 11-0, 12-0, 13-0, 14-0, 15-0, 16-148, 17-154, 18-162, 19-164, 20-173, 21-178, 22-185, 23-190, 24-194, 25-198, 26-200, 27-203, 28-205, 29-205, 30-206, 31-206, \n",
      "4월: 1-206, 2-209, 3-209, 4-210, 5-211, 6-212, 7-213, 8-214, 9-215, 10-215, 11-215, 12-216, 13-216, 14-216, 15-216, 16-216, 17-216, 18-216, 19-216, 20-216, 21-216, 22-216, 23-216, 24-216, 25-216, 26-216, 27-216, 28-216, 29-218, 30-216, \n",
      "5월: 1-183, 2-185, 3-185, 4-185, 5-186, 6-185, 7-185, 8-185, 9-185, 10-185, 11-185, 12-186, 13-185, 14-185, 15-186, 16-186, 17-186, 18-186, 19-186, 20-186, 21-186, 22-186, 23-186, 24-186, 25-186, 26-186, 27-186, 28-186, 29-186, 30-186, 31-186, \n",
      "6월: 1-186, 2-186, 3-187, 4-186, 5-186, 6-186, 7-186, 8-186, 9-187, 10-186, 11-186, 12-186, 13-186, 14-186, 15-186, 16-186, 17-186, 18-186, 19-186, 20-186, 21-186, 22-186, 23-186, 24-186, 25-186, 26-186, 27-186, 28-186, 29-186, 30-186, \n",
      "7월: 1-186, 2-186, 3-186, 4-186, 5-186, 6-186, 7-186, 8-187, 9-187, 10-186, 11-186, 12-186, 13-186, 14-186, 15-186, 16-186, 17-186, 18-186, 19-186, 20-187, 21-186, 22-186, 23-186, 24-186, 25-186, 26-186, 27-186, 28-186, 29-186, 30-186, 31-186, \n",
      "8월: 1-186, 2-186, 3-186, 4-186, 5-186, 6-186, 7-186, 8-187, 9-186, 10-187, 11-186, 12-186, 13-186, 14-186, 15-186, 16-186, 17-186, 18-186, 19-186, 20-186, 21-186, 22-186, 23-186, 24-186, 25-186, 26-186, 27-186, 28-186, 29-186, 30-186, 31-186, \n",
      "9월: 1-186, 2-186, 3-186, 4-186, 5-186, 6-186, 7-186, 8-186, 9-186, 10-186, 11-186, 12-186, 13-186, 14-186, 15-186, 16-186, 17-186, 18-186, 19-186, 20-186, 21-186, 22-186, 23-186, 24-186, 25-186, 26-186, 27-186, 28-186, 29-186, 30-186, \n",
      "10월: 1-186, 2-186, 3-186, 4-186, 5-186, 6-186, 7-186, 8-186, 9-186, 10-186, 11-186, 12-186, 13-186, 14-186, 15-186, 16-186, 17-186, 18-186, 19-186, 20-186, 21-186, 22-186, 23-186, 24-186, 25-186, 26-186, 27-186, 28-186, 29-186, 30-186, 31-186, \n",
      "11월: 1-186, 2-186, 3-186, 4-186, 5-186, 6-186, 7-186, 8-186, 9-186, 10-186, 11-186, 12-186, 13-186, 14-186, 15-186, 16-186, 17-189, 18-189, 19-189, 20-189, 21-189, 22-189, 23-189, 24-189, 25-189, 26-189, 27-189, 28-189, 29-189, 30-189, \n",
      "12월: 1-189, 2-189, 3-189, 4-189, 5-189, 6-189, 7-189, 8-189, 9-189, 10-189, 11-189, 12-189, 13-189, 14-189, 15-189, 16-378, 17-189, 18-189, 19-189, 20-189, 21-189, \n",
      "\n"
     ]
    }
   ],
   "source": [
    "corona_url = 'http://openapi.data.go.kr/openapi/service/rest/Covid19/getCovid19NatInfStateJson'\n",
    "month_dict = {3:31, 4:30, 5:31, 6:30, 7:31, 8:31, 9:30, 10:31, 11:30, 12:21}\n",
    "for k, v in tqdm_notebook(month_dict.items()):\n",
    "    month = str(k) if k >= 10 else f'0{k}'\n",
    "    print(f'{k}월: ', end='')\n",
    "    for i in range(1, v+1):\n",
    "        day = str(i) if i >= 10 else f'0{i}'\n",
    "        print(f'{i}-', end='')\n",
    "        date = f'2020{month}{day}'\n",
    "        page = 1\n",
    "        url = f'{corona_url}?ServiceKey={govapi_key}&pageNo={page}&numOfRows=10&startCreateDt={date}&endCreateDt={date}'\n",
    "        soup = BeautifulSoup(requests.get(url).text, 'xml')\n",
    "\n",
    "        items = soup.find_all('item')\n",
    "        item_count = len(items)\n",
    "        print(f'{item_count}, ', end='')\n",
    "    print()"
   ]
  },
  {
   "cell_type": "code",
   "execution_count": 37,
   "metadata": {},
   "outputs": [],
   "source": [
    "sql_insert = '''insert into overseas (stdDay, areaNm, nationNm, deathCnt, deathRate, defCnt)\n",
    "values (?,?,?,?,?,?);'''"
   ]
  },
  {
   "cell_type": "code",
   "execution_count": 38,
   "metadata": {},
   "outputs": [
    {
     "output_type": "display_data",
     "data": {
      "text/plain": "HBox(children=(FloatProgress(value=0.0, max=10.0), HTML(value='')))",
      "application/vnd.jupyter.widget-view+json": {
       "version_major": 2,
       "version_minor": 0,
       "model_id": "64c0c9c2b5fd404884afb8b4e79986e5"
      }
     },
     "metadata": {}
    },
    {
     "output_type": "stream",
     "name": "stdout",
     "text": [
      "\n"
     ]
    },
    {
     "output_type": "error",
     "ename": "OperationalError",
     "evalue": "database is locked",
     "traceback": [
      "\u001b[1;31m---------------------------------------------------------------------------\u001b[0m",
      "\u001b[1;31mOperationalError\u001b[0m                          Traceback (most recent call last)",
      "\u001b[1;32m<ipython-input-38-f9d9beb338ff>\u001b[0m in \u001b[0;36m<module>\u001b[1;34m\u001b[0m\n\u001b[0;32m     25\u001b[0m             \u001b[0mparams\u001b[0m \u001b[1;33m=\u001b[0m \u001b[1;33m[\u001b[0m\u001b[0mstdDay\u001b[0m\u001b[1;33m,\u001b[0m \u001b[0mareaNm\u001b[0m\u001b[1;33m,\u001b[0m \u001b[0mnationNm\u001b[0m\u001b[1;33m,\u001b[0m \u001b[0mdeathCnt\u001b[0m\u001b[1;33m,\u001b[0m \u001b[0mdeathRate\u001b[0m\u001b[1;33m,\u001b[0m \u001b[0mdefCnt\u001b[0m\u001b[1;33m]\u001b[0m\u001b[1;33m\u001b[0m\u001b[1;33m\u001b[0m\u001b[0m\n\u001b[0;32m     26\u001b[0m             \u001b[0mcur\u001b[0m\u001b[1;33m.\u001b[0m\u001b[0mexecute\u001b[0m\u001b[1;33m(\u001b[0m\u001b[0msql_insert\u001b[0m\u001b[1;33m,\u001b[0m \u001b[0mparams\u001b[0m\u001b[1;33m)\u001b[0m\u001b[1;33m\u001b[0m\u001b[1;33m\u001b[0m\u001b[0m\n\u001b[1;32m---> 27\u001b[1;33m             \u001b[0mconn\u001b[0m\u001b[1;33m.\u001b[0m\u001b[0mcommit\u001b[0m\u001b[1;33m(\u001b[0m\u001b[1;33m)\u001b[0m\u001b[1;33m\u001b[0m\u001b[1;33m\u001b[0m\u001b[0m\n\u001b[0m",
      "\u001b[1;31mOperationalError\u001b[0m: database is locked"
     ]
    }
   ],
   "source": [
    "# 3월은 데이터가 없으니 4월부터 시작함\n",
    "month_dict = {3:31, 4:30, 5:31, 6:30, 7:31, 8:31, 9:30, 10:31, 11:30, 12:21}\n",
    "for k, v in tqdm_notebook(month_dict.items()):\n",
    "    month = str(k) if k >= 10 else f'0{k}'\n",
    "    for i in range(1, v+1):\n",
    "        day = str(i) if i >= 10 else f'0{i}'\n",
    "        date = f'2020{month}{day}'\n",
    "        page = 1\n",
    "        url = f'{corona_url}?ServiceKey={govapi_key}&pageNo={page}&numOfRows=10&startCreateDt={date}&endCreateDt={date}'\n",
    "        soup = BeautifulSoup(requests.get(url).text, 'xml')\n",
    "\n",
    "        items = soup.find_all('item')\n",
    "        item_count = len(items)\n",
    "        if item_count == 0:\n",
    "            continue\n",
    "\n",
    "        for item in items:\n",
    "            stdDay = change_date(item.find('stdDay').string)\n",
    "            areaNm = item.find('areaNm').string\n",
    "            nationNm = item.find('nationNm').string\n",
    "            deathCnt = int(item.find('natDeathCnt').string)\n",
    "            deathRate = float(item.find('natDeathRate').string)\n",
    "            defCnt = int(item.find('natDefCnt').string)\n",
    "\n",
    "            params = [stdDay, areaNm, nationNm, deathCnt, deathRate, defCnt]\n",
    "            cur.execute(sql_insert, params)\n",
    "            conn.commit()"
   ]
  },
  {
   "cell_type": "code",
   "execution_count": null,
   "metadata": {},
   "outputs": [],
   "source": [
    "cur.close()\n",
    "conn.close()"
   ]
  }
 ]
}