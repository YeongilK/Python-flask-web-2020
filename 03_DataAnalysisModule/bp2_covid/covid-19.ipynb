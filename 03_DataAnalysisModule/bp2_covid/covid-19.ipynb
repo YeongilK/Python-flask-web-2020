{
 "metadata": {
  "language_info": {
   "codemirror_mode": {
    "name": "ipython",
    "version": 3
   },
   "file_extension": ".py",
   "mimetype": "text/x-python",
   "name": "python",
   "nbconvert_exporter": "python",
   "pygments_lexer": "ipython3",
   "version": "3.8.3-final"
  },
  "orig_nbformat": 2,
  "kernelspec": {
   "name": "Python 3.8.3 64-bit ('base': conda)",
   "display_name": "Python 3.8.3 64-bit ('base': conda)",
   "metadata": {
    "interpreter": {
     "hash": "b3ba2566441a7c06988d0923437866b63cedc61552a5af99d1f4fb67d367b25f"
    }
   }
  }
 },
 "nbformat": 4,
 "nbformat_minor": 2,
 "cells": [
  {
   "cell_type": "code",
   "execution_count": 38,
   "metadata": {},
   "outputs": [],
   "source": [
    "import requests\n",
    "import pandas as pd\n",
    "from bs4 import BeautifulSoup"
   ]
  },
  {
   "cell_type": "code",
   "execution_count": 39,
   "metadata": {},
   "outputs": [],
   "source": [
    "key_fd = open('gov_data_api_key.txt', mode='r')\n",
    "govapi_key = key_fd.read(100)\n",
    "key_fd.close()"
   ]
  },
  {
   "cell_type": "code",
   "execution_count": 40,
   "metadata": {},
   "outputs": [],
   "source": [
    "start_date = '20201001'\n",
    "end_date = '20201001'\n",
    "page = 1"
   ]
  },
  {
   "cell_type": "code",
   "execution_count": 41,
   "metadata": {},
   "outputs": [],
   "source": [
    "corona_url = 'http://openapi.data.go.kr/openapi/service/rest/Covid19/getCovid19SidoInfStateJson'\n",
    "url = f'{corona_url}?ServiceKey={govapi_key}&pageNo={page}&numOfRows=10&startCreateDt={start_date}&endCreateDt={end_date}'"
   ]
  },
  {
   "cell_type": "code",
   "execution_count": 42,
   "metadata": {},
   "outputs": [
    {
     "output_type": "stream",
     "name": "stdout",
     "text": [
      "19\n"
     ]
    }
   ],
   "source": [
    "result = requests.get(url)\n",
    "soup = BeautifulSoup(result.text, 'xml')\n",
    "resultCode = soup.find('resultCode').get_text()\n",
    "if resultCode == '00':\n",
    "    print(soup.find('totalCount').string)\n",
    "elif resultCode == '99':\n",
    "    print(soup.find('resultMsg').string)"
   ]
  },
  {
   "cell_type": "code",
   "execution_count": 43,
   "metadata": {},
   "outputs": [
    {
     "output_type": "execute_result",
     "data": {
      "text/plain": [
       "                       등록시간  사망자    확진자 광역시도 전일대비   격리해제   격리중 지역발생 해외유입  \\\n",
       "0   2020-10-01 09:41:42.122    0   1517   검역    6   1386   131    0    6   \n",
       "1   2020-10-01 09:41:42.122    0     59   제주    0     55     4    0    0   \n",
       "2   2020-10-01 09:41:42.122    0    291   경남    0    276    15    0    0   \n",
       "3   2020-10-01 09:41:42.122   56   1556   경북    5   1445    55    5    0   \n",
       "4   2020-10-01 09:41:42.122    2    170   전남    1    155    13    1    0   \n",
       "5   2020-10-01 09:41:42.122    0    128   전북    0    107    21    0    0   \n",
       "6   2020-10-01 09:41:42.122    6    487   충남    3    422    59    3    0   \n",
       "7   2020-10-01 09:41:42.122    1    172   충북    1    144    27    1    0   \n",
       "8   2020-10-01 09:41:42.121    3    224   강원    0    212     9    0    0   \n",
       "9   2020-10-01 09:41:42.121   74   4405   경기   21   3921   410   17    4   \n",
       "10  2020-10-01 09:41:42.121    0     76   세종    0     67     9    0    0   \n",
       "11  2020-10-01 09:41:42.121    2    147   울산    0    137     8    0    0   \n",
       "12  2020-10-01 09:41:42.121    4    360   대전    0    326    30    0    0   \n",
       "13  2020-10-01 09:41:42.121    3    495   광주    0    477    15    0    0   \n",
       "14  2020-10-01 09:41:42.121    8    919   인천    3    825    86    3    0   \n",
       "15   2020-10-01 09:41:42.12  195   7133   대구    1   6917    21    1    0   \n",
       "16   2020-10-01 09:41:42.12    4    427   부산    6    361    62    6    0   \n",
       "17   2020-10-01 09:41:42.12   57   5323   서울   30   4433   833   30    0   \n",
       "18   2020-10-01 09:41:42.12  415  23889   합계   77  21666  1808   67   10   \n",
       "\n",
       "     10만명당 ID               기준시간  수정시간  \n",
       "0        -     2020년 10월 01일 00시  null  \n",
       "1     8.80     2020년 10월 01일 00시  null  \n",
       "2     8.66     2020년 10월 01일 00시  null  \n",
       "3    58.44     2020년 10월 01일 00시  null  \n",
       "4     9.12     2020년 10월 01일 00시  null  \n",
       "5     7.04     2020년 10월 01일 00시  null  \n",
       "6    22.95     2020년 10월 01일 00시  null  \n",
       "7    10.75     2020년 10월 01일 00시  null  \n",
       "8    14.54     2020년 10월 01일 00시  null  \n",
       "9    33.24     2020년 10월 01일 00시  null  \n",
       "10   22.20     2020년 10월 01일 00시  null  \n",
       "11   12.82     2020년 10월 01일 00시  null  \n",
       "12   24.42     2020년 10월 01일 00시  null  \n",
       "13   33.98     2020년 10월 01일 00시  null  \n",
       "14   31.09     2020년 10월 01일 00시  null  \n",
       "15  292.76     2020년 10월 01일 00시  null  \n",
       "16   12.52     2020년 10월 01일 00시  null  \n",
       "17   54.69     2020년 10월 01일 00시  null  \n",
       "18   46.08     2020년 10월 01일 00시  null  "
      ],
      "text/html": "<div>\n<style scoped>\n    .dataframe tbody tr th:only-of-type {\n        vertical-align: middle;\n    }\n\n    .dataframe tbody tr th {\n        vertical-align: top;\n    }\n\n    .dataframe thead th {\n        text-align: right;\n    }\n</style>\n<table border=\"1\" class=\"dataframe\">\n  <thead>\n    <tr style=\"text-align: right;\">\n      <th></th>\n      <th>등록시간</th>\n      <th>사망자</th>\n      <th>확진자</th>\n      <th>광역시도</th>\n      <th>전일대비</th>\n      <th>격리해제</th>\n      <th>격리중</th>\n      <th>지역발생</th>\n      <th>해외유입</th>\n      <th>10만명당</th>\n      <th>ID</th>\n      <th>기준시간</th>\n      <th>수정시간</th>\n    </tr>\n  </thead>\n  <tbody>\n    <tr>\n      <th>0</th>\n      <td>2020-10-01 09:41:42.122</td>\n      <td>0</td>\n      <td>1517</td>\n      <td>검역</td>\n      <td>6</td>\n      <td>1386</td>\n      <td>131</td>\n      <td>0</td>\n      <td>6</td>\n      <td>-</td>\n      <td></td>\n      <td>2020년 10월 01일 00시</td>\n      <td>null</td>\n    </tr>\n    <tr>\n      <th>1</th>\n      <td>2020-10-01 09:41:42.122</td>\n      <td>0</td>\n      <td>59</td>\n      <td>제주</td>\n      <td>0</td>\n      <td>55</td>\n      <td>4</td>\n      <td>0</td>\n      <td>0</td>\n      <td>8.80</td>\n      <td></td>\n      <td>2020년 10월 01일 00시</td>\n      <td>null</td>\n    </tr>\n    <tr>\n      <th>2</th>\n      <td>2020-10-01 09:41:42.122</td>\n      <td>0</td>\n      <td>291</td>\n      <td>경남</td>\n      <td>0</td>\n      <td>276</td>\n      <td>15</td>\n      <td>0</td>\n      <td>0</td>\n      <td>8.66</td>\n      <td></td>\n      <td>2020년 10월 01일 00시</td>\n      <td>null</td>\n    </tr>\n    <tr>\n      <th>3</th>\n      <td>2020-10-01 09:41:42.122</td>\n      <td>56</td>\n      <td>1556</td>\n      <td>경북</td>\n      <td>5</td>\n      <td>1445</td>\n      <td>55</td>\n      <td>5</td>\n      <td>0</td>\n      <td>58.44</td>\n      <td></td>\n      <td>2020년 10월 01일 00시</td>\n      <td>null</td>\n    </tr>\n    <tr>\n      <th>4</th>\n      <td>2020-10-01 09:41:42.122</td>\n      <td>2</td>\n      <td>170</td>\n      <td>전남</td>\n      <td>1</td>\n      <td>155</td>\n      <td>13</td>\n      <td>1</td>\n      <td>0</td>\n      <td>9.12</td>\n      <td></td>\n      <td>2020년 10월 01일 00시</td>\n      <td>null</td>\n    </tr>\n    <tr>\n      <th>5</th>\n      <td>2020-10-01 09:41:42.122</td>\n      <td>0</td>\n      <td>128</td>\n      <td>전북</td>\n      <td>0</td>\n      <td>107</td>\n      <td>21</td>\n      <td>0</td>\n      <td>0</td>\n      <td>7.04</td>\n      <td></td>\n      <td>2020년 10월 01일 00시</td>\n      <td>null</td>\n    </tr>\n    <tr>\n      <th>6</th>\n      <td>2020-10-01 09:41:42.122</td>\n      <td>6</td>\n      <td>487</td>\n      <td>충남</td>\n      <td>3</td>\n      <td>422</td>\n      <td>59</td>\n      <td>3</td>\n      <td>0</td>\n      <td>22.95</td>\n      <td></td>\n      <td>2020년 10월 01일 00시</td>\n      <td>null</td>\n    </tr>\n    <tr>\n      <th>7</th>\n      <td>2020-10-01 09:41:42.122</td>\n      <td>1</td>\n      <td>172</td>\n      <td>충북</td>\n      <td>1</td>\n      <td>144</td>\n      <td>27</td>\n      <td>1</td>\n      <td>0</td>\n      <td>10.75</td>\n      <td></td>\n      <td>2020년 10월 01일 00시</td>\n      <td>null</td>\n    </tr>\n    <tr>\n      <th>8</th>\n      <td>2020-10-01 09:41:42.121</td>\n      <td>3</td>\n      <td>224</td>\n      <td>강원</td>\n      <td>0</td>\n      <td>212</td>\n      <td>9</td>\n      <td>0</td>\n      <td>0</td>\n      <td>14.54</td>\n      <td></td>\n      <td>2020년 10월 01일 00시</td>\n      <td>null</td>\n    </tr>\n    <tr>\n      <th>9</th>\n      <td>2020-10-01 09:41:42.121</td>\n      <td>74</td>\n      <td>4405</td>\n      <td>경기</td>\n      <td>21</td>\n      <td>3921</td>\n      <td>410</td>\n      <td>17</td>\n      <td>4</td>\n      <td>33.24</td>\n      <td></td>\n      <td>2020년 10월 01일 00시</td>\n      <td>null</td>\n    </tr>\n    <tr>\n      <th>10</th>\n      <td>2020-10-01 09:41:42.121</td>\n      <td>0</td>\n      <td>76</td>\n      <td>세종</td>\n      <td>0</td>\n      <td>67</td>\n      <td>9</td>\n      <td>0</td>\n      <td>0</td>\n      <td>22.20</td>\n      <td></td>\n      <td>2020년 10월 01일 00시</td>\n      <td>null</td>\n    </tr>\n    <tr>\n      <th>11</th>\n      <td>2020-10-01 09:41:42.121</td>\n      <td>2</td>\n      <td>147</td>\n      <td>울산</td>\n      <td>0</td>\n      <td>137</td>\n      <td>8</td>\n      <td>0</td>\n      <td>0</td>\n      <td>12.82</td>\n      <td></td>\n      <td>2020년 10월 01일 00시</td>\n      <td>null</td>\n    </tr>\n    <tr>\n      <th>12</th>\n      <td>2020-10-01 09:41:42.121</td>\n      <td>4</td>\n      <td>360</td>\n      <td>대전</td>\n      <td>0</td>\n      <td>326</td>\n      <td>30</td>\n      <td>0</td>\n      <td>0</td>\n      <td>24.42</td>\n      <td></td>\n      <td>2020년 10월 01일 00시</td>\n      <td>null</td>\n    </tr>\n    <tr>\n      <th>13</th>\n      <td>2020-10-01 09:41:42.121</td>\n      <td>3</td>\n      <td>495</td>\n      <td>광주</td>\n      <td>0</td>\n      <td>477</td>\n      <td>15</td>\n      <td>0</td>\n      <td>0</td>\n      <td>33.98</td>\n      <td></td>\n      <td>2020년 10월 01일 00시</td>\n      <td>null</td>\n    </tr>\n    <tr>\n      <th>14</th>\n      <td>2020-10-01 09:41:42.121</td>\n      <td>8</td>\n      <td>919</td>\n      <td>인천</td>\n      <td>3</td>\n      <td>825</td>\n      <td>86</td>\n      <td>3</td>\n      <td>0</td>\n      <td>31.09</td>\n      <td></td>\n      <td>2020년 10월 01일 00시</td>\n      <td>null</td>\n    </tr>\n    <tr>\n      <th>15</th>\n      <td>2020-10-01 09:41:42.12</td>\n      <td>195</td>\n      <td>7133</td>\n      <td>대구</td>\n      <td>1</td>\n      <td>6917</td>\n      <td>21</td>\n      <td>1</td>\n      <td>0</td>\n      <td>292.76</td>\n      <td></td>\n      <td>2020년 10월 01일 00시</td>\n      <td>null</td>\n    </tr>\n    <tr>\n      <th>16</th>\n      <td>2020-10-01 09:41:42.12</td>\n      <td>4</td>\n      <td>427</td>\n      <td>부산</td>\n      <td>6</td>\n      <td>361</td>\n      <td>62</td>\n      <td>6</td>\n      <td>0</td>\n      <td>12.52</td>\n      <td></td>\n      <td>2020년 10월 01일 00시</td>\n      <td>null</td>\n    </tr>\n    <tr>\n      <th>17</th>\n      <td>2020-10-01 09:41:42.12</td>\n      <td>57</td>\n      <td>5323</td>\n      <td>서울</td>\n      <td>30</td>\n      <td>4433</td>\n      <td>833</td>\n      <td>30</td>\n      <td>0</td>\n      <td>54.69</td>\n      <td></td>\n      <td>2020년 10월 01일 00시</td>\n      <td>null</td>\n    </tr>\n    <tr>\n      <th>18</th>\n      <td>2020-10-01 09:41:42.12</td>\n      <td>415</td>\n      <td>23889</td>\n      <td>합계</td>\n      <td>77</td>\n      <td>21666</td>\n      <td>1808</td>\n      <td>67</td>\n      <td>10</td>\n      <td>46.08</td>\n      <td></td>\n      <td>2020년 10월 01일 00시</td>\n      <td>null</td>\n    </tr>\n  </tbody>\n</table>\n</div>"
     },
     "metadata": {},
     "execution_count": 43
    }
   ],
   "source": [
    "createDt_list,deathCnt_list,defCnt_list,gubun_list,incDec_list = [],[],[],[],[]\n",
    "isolClearCnt_list,isolIngCnt_list,localOccCnt_list,overFlowCnt_list = [],[],[],[]\n",
    "qurRate_list,seq_list,stdDay_list,updateDt_list = [],[],[],[]\n",
    "items = soup.find_all('item')\n",
    "for item in items:\n",
    "    createDt_list.append(item.find('createDt').string if item.find('createDt') else '')\n",
    "    deathCnt_list.append(item.find('deathCnt').string if item.find('deathCnt') else '')\n",
    "    defCnt_list.append(item.find('defCnt').string if item.find('defCnt') else '')\n",
    "    gubun_list.append(item.find('gubun').string if item.find('gubun') else '')\n",
    "    incDec_list.append(item.find('incDec').string if item.find('incDec') else '')\n",
    "    isolClearCnt_list.append(item.find('isolClearCnt').string if item.find('isolClearCnt') else '')\n",
    "    isolIngCnt_list.append(item.find('isolIngCnt').string if item.find('isolIngCnt') else '')\n",
    "    localOccCnt_list.append(item.find('localOccCnt').string if item.find('localOccCnt') else '')\n",
    "    overFlowCnt_list.append(item.find('overFlowCnt').string if item.find('overFlowCnt') else '')\n",
    "    qurRate_list.append(item.find('qurRate').string if item.find('qurRate') else '')\n",
    "    seq_list.append(item.find('seq_list').string if item.find('seq_list') else '')\n",
    "    stdDay_list.append(item.find('stdDay').string if item.find('stdDay') else '')\n",
    "    updateDt_list.append(item.find('updateDt').string if item.find('updateDt') else '')\n",
    "\n",
    "df = pd.DataFrame({\n",
    "    '등록시간':createDt_list, '사망자':deathCnt_list, '확진자':defCnt_list,\n",
    "    '광역시도':gubun_list, '전일대비':incDec_list, '격리해제':isolClearCnt_list, \n",
    "    '격리중':isolIngCnt_list, '지역발생':localOccCnt_list,'해외유입':overFlowCnt_list,\n",
    "    '10만명당':qurRate_list, 'ID':seq_list, '기준시간':stdDay_list, '수정시간':updateDt_list\n",
    "})\n",
    "df"
   ]
  },
  {
   "cell_type": "markdown",
   "metadata": {},
   "source": [
    "### region 테이블 생성"
   ]
  },
  {
   "cell_type": "code",
   "execution_count": 44,
   "metadata": {},
   "outputs": [],
   "source": [
    "import sqlite3\n",
    "conn = sqlite3.connect('../db/covid.db')\n",
    "cur = conn.cursor()"
   ]
  },
  {
   "cell_type": "code",
   "execution_count": 45,
   "metadata": {},
   "outputs": [],
   "source": [
    "sql_table = '''create table if not exists region (\n",
    "  rid integer not null primary key autoincrement,\n",
    "  stdDay text not null,\n",
    "  deathCnt int not null,\n",
    "  defCnt int not null,\n",
    "  gubun text not null,\n",
    "  incDec int not null,\n",
    "  isolClearCnt int not null,\n",
    "  isolIngCnt int not null,\n",
    "  localOccCnt int not null,\n",
    "  overFlowCnt int not null,\n",
    "  qurRate float\n",
    ");'''\n",
    "cur.execute(sql_table)\n",
    "conn.commit()"
   ]
  },
  {
   "cell_type": "code",
   "execution_count": 46,
   "metadata": {},
   "outputs": [],
   "source": [
    "# 기준시간을 YYYY-MM-DD로 변환\n",
    "def change_date(x):\n",
    "    y = x.split(' ')\n",
    "    month = y[1][:-1] if len(y[1][:-1]) == 2 else '0'+y[1][:-1]\n",
    "    day = y[2][:-1] if len(y[2][:-1]) == 2 else '0'+y[2][:-1]\n",
    "    return f'{y[0][:-1]}-{month}-{day}'"
   ]
  },
  {
   "cell_type": "code",
   "execution_count": 47,
   "metadata": {},
   "outputs": [
    {
     "output_type": "execute_result",
     "data": {
      "text/plain": [
       "['2020-10-01', 0, 1517, '검역', 6, 1386, 131, 0, 6, None]"
      ]
     },
     "metadata": {},
     "execution_count": 47
    }
   ],
   "source": [
    "params = [change_date(df['기준시간'][0]), int(df['사망자'][0]), int(df['확진자'][0]), \n",
    "          df['광역시도'][0], int(df['전일대비'][0]), int(df['격리해제'][0]), \n",
    "          int(df['격리중'][0]), int(df['지역발생'][0]), int(df['해외유입'][0])]\n",
    "params.append(None if df['10만명당'][0] == '-' else float(df['10만명당'][0]))\n",
    "params"
   ]
  },
  {
   "cell_type": "code",
   "execution_count": 49,
   "metadata": {},
   "outputs": [],
   "source": [
    "sql_insert = '''insert into region(stdDay, deathCnt, defCnt, gubun, incDec, isolClearCnt,\n",
    "isolIngCnt, localOccCnt, overFlowCnt, qurRate) values(?,?,?,?,?,?,?,?,?,?);\n",
    "'''\n",
    "cur.execute(sql_insert, params)\n",
    "conn.commit()"
   ]
  },
  {
   "cell_type": "code",
   "execution_count": 50,
   "metadata": {},
   "outputs": [],
   "source": [
    "for i in range(19):\n",
    "    params = [change_date(df['기준시간'][i]), int(df['사망자'][i]), int(df['확진자'][i]), \n",
    "              df['광역시도'][i], int(df['전일대비'][i]), int(df['격리해제'][i]), \n",
    "              int(df['격리중'][i]), int(df['지역발생'][i]), int(df['해외유입'][i])]\n",
    "    params.append(None if df['10만명당'][i] == '-' else float(df['10만명당'][i]))\n",
    "    cur.execute(sql_insert, params)\n",
    "    conn.commit()"
   ]
  },
  {
   "cell_type": "markdown",
   "metadata": {},
   "source": [
    "### 3월 1일 ~ 12월 21일"
   ]
  },
  {
   "cell_type": "code",
   "execution_count": 51,
   "metadata": {},
   "outputs": [],
   "source": [
    "from tqdm import tqdm_notebook\n",
    "month_dict = {3:31, 4:30, 5:31, 6:30, 7:31, 8:31, 9:30, 10:31, 11:30, 12:21}"
   ]
  },
  {
   "cell_type": "code",
   "execution_count": null,
   "metadata": {},
   "outputs": [],
   "source": [
    "for k, v in tqdm_notebook(month_dict.items()):\n",
    "    month = str(k) if k >= 10 else f'0{k}'\n",
    "    for i in range(1, v+1):\n",
    "        day = str(i) if i >= 10 else f'0{i}'\n",
    "        date = f'2020{month}{day}'\n",
    "        page = 1\n",
    "        url = f'{corona_url}?ServiceKey={govapi_key}&pageNo={page}&numOfRows=10&startCreateDt={date}&endCreateDt={date}'\n",
    "        soup = BeautifulSoup(requests.get(url).text, 'xml')\n",
    "\n",
    "        items = soup.find_all('item')\n",
    "        item_count = len(items)\n",
    "        for i, item in enumerate(items):\n",
    "            if item_count > 30 and i >= int(item_count / 2):\n",
    "                break\n",
    "            createDt = change_date(item.find(''))"
   ]
  }
 ]
}