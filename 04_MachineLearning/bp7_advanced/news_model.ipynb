{
 "metadata": {
  "language_info": {
   "codemirror_mode": {
    "name": "ipython",
    "version": 3
   },
   "file_extension": ".py",
   "mimetype": "text/x-python",
   "name": "python",
   "nbconvert_exporter": "python",
   "pygments_lexer": "ipython3",
   "version": "3.8.5-final"
  },
  "orig_nbformat": 2,
  "kernelspec": {
   "name": "python3",
   "display_name": "Python 3",
   "language": "python"
  }
 },
 "nbformat": 4,
 "nbformat_minor": 2,
 "cells": [
  {
   "source": [
    "# 20 뉴스 그룹 모델 생성"
   ],
   "cell_type": "markdown",
   "metadata": {}
  },
  {
   "cell_type": "code",
   "execution_count": 1,
   "metadata": {},
   "outputs": [],
   "source": [
    "import numpy as np \n",
    "import pandas as pd\n",
    "import joblib"
   ]
  },
  {
   "cell_type": "code",
   "execution_count": 2,
   "metadata": {},
   "outputs": [],
   "source": [
    "from sklearn.linear_model import LogisticRegression\n",
    "from sklearn.model_selection import GridSearchCV\n",
    "from sklearn.metrics import accuracy_score\n",
    "from sklearn.pipeline import Pipeline \n",
    "from sklearn.feature_extraction.text import CountVectorizer, TfidfVectorizer"
   ]
  },
  {
   "source": [
    "### train 데이터"
   ],
   "cell_type": "markdown",
   "metadata": {}
  },
  {
   "cell_type": "code",
   "execution_count": 10,
   "metadata": {},
   "outputs": [],
   "source": [
    "from sklearn.datasets import fetch_20newsgroups"
   ]
  },
  {
   "cell_type": "code",
   "execution_count": 11,
   "metadata": {},
   "outputs": [],
   "source": [
    "train_news = fetch_20newsgroups(subset='train', random_state=156, \n",
    "                                remove=('headers', 'footers', 'quotes'))"
   ]
  },
  {
   "cell_type": "code",
   "execution_count": 12,
   "metadata": {},
   "outputs": [
    {
     "output_type": "execute_result",
     "data": {
      "text/plain": [
       "                                                data  target\n",
       "0  \\n\\nWhat I did NOT get with my drive (CD300i) ...       4\n",
       "1  \\n\\t\"And in that day you will ask Me no questi...      15\n",
       "2  \\nI have to disagree with you on this one.  It...      10"
      ],
      "text/html": "<div>\n<style scoped>\n    .dataframe tbody tr th:only-of-type {\n        vertical-align: middle;\n    }\n\n    .dataframe tbody tr th {\n        vertical-align: top;\n    }\n\n    .dataframe thead th {\n        text-align: right;\n    }\n</style>\n<table border=\"1\" class=\"dataframe\">\n  <thead>\n    <tr style=\"text-align: right;\">\n      <th></th>\n      <th>data</th>\n      <th>target</th>\n    </tr>\n  </thead>\n  <tbody>\n    <tr>\n      <th>0</th>\n      <td>\\n\\nWhat I did NOT get with my drive (CD300i) ...</td>\n      <td>4</td>\n    </tr>\n    <tr>\n      <th>1</th>\n      <td>\\n\\t\"And in that day you will ask Me no questi...</td>\n      <td>15</td>\n    </tr>\n    <tr>\n      <th>2</th>\n      <td>\\nI have to disagree with you on this one.  It...</td>\n      <td>10</td>\n    </tr>\n  </tbody>\n</table>\n</div>"
     },
     "metadata": {},
     "execution_count": 12
    }
   ],
   "source": [
    "df_train = pd.DataFrame(train_news.data, columns=['data'])\n",
    "df_train['target'] = train_news.target\n",
    "df_train.head(3)"
   ]
  },
  {
   "cell_type": "code",
   "execution_count": 14,
   "metadata": {},
   "outputs": [
    {
     "output_type": "execute_result",
     "data": {
      "text/plain": [
       "'\\n\\t\"And in that day you will ask Me no question.  Truly, truly, I say to \\n\\tyou, if you shall ask the Father for anything, He will give it to you \\n\\tin my name.  Until now you have asked for nothing in My name; ask, and \\n\\tyou will receive, that your joy may be made full.\"\\n\\t\\t\\t\\t-John 16:23-24\\n\\nI don\\'t believe that we necessarily have to say \" . . . In Christ\\'s name.  \\nAmen,\" for our prayers to be heard, but it glorifies the Son, when we \\nacknowledge that our prayer is made possible by Him.  I believe that just as \\nthose who were saved in the OT, could only be saved because Jesus would one day\\nreconcile God to man, He is the only reason their prayers would be heard by \\nGod.\\n\\n\\tFor all of us have become like one who is unclean,\\n\\tAnd all our righteous deeds are like a filthy garment;\\n\\tAnd all of us wither like a leaf,\\n\\tand our iniquities, like the wind, take us away.\\n\\t\\t\\t\\t-Isaiah 64:6, NAS\\n\\nOur prayers like the rest of our deeds are too unholy to go directly to the\\nFather because they are tainted by our sin.  Only by washing these prayers with\\nChrist\\'s blood are they worthy to be lifted to to the Father.\\n\\n\\t\"First, I thank my God through Christ Jesus . . .\"\\n\\t\\t\\t\\t-Romans 1:8, NAS\\n\\nSome scholars believe that this is Paul recognizing that even his thanks are \\ntoo unholy for the Father.\\n\\tBasically, prayer is a gift of grace, I believe that only through Jesus\\ndo our prayers have any power; thus, praying in His name glorifies and praises \\nJesus for this beautiful and powerful gift He has given us.'"
      ]
     },
     "metadata": {},
     "execution_count": 14
    }
   ],
   "source": [
    "df_train.data[1]"
   ]
  },
  {
   "cell_type": "code",
   "execution_count": 16,
   "metadata": {},
   "outputs": [
    {
     "output_type": "execute_result",
     "data": {
      "text/plain": [
       "                                                data  target\n",
       "0  What I did NOT get with my drive (CD300i) is t...       4\n",
       "1  \"And in that day you will ask Me no question. ...      15\n",
       "2  I have to disagree with you on this one.  It i...      10"
      ],
      "text/html": "<div>\n<style scoped>\n    .dataframe tbody tr th:only-of-type {\n        vertical-align: middle;\n    }\n\n    .dataframe tbody tr th {\n        vertical-align: top;\n    }\n\n    .dataframe thead th {\n        text-align: right;\n    }\n</style>\n<table border=\"1\" class=\"dataframe\">\n  <thead>\n    <tr style=\"text-align: right;\">\n      <th></th>\n      <th>data</th>\n      <th>target</th>\n    </tr>\n  </thead>\n  <tbody>\n    <tr>\n      <th>0</th>\n      <td>What I did NOT get with my drive (CD300i) is t...</td>\n      <td>4</td>\n    </tr>\n    <tr>\n      <th>1</th>\n      <td>\"And in that day you will ask Me no question. ...</td>\n      <td>15</td>\n    </tr>\n    <tr>\n      <th>2</th>\n      <td>I have to disagree with you on this one.  It i...</td>\n      <td>10</td>\n    </tr>\n  </tbody>\n</table>\n</div>"
     },
     "metadata": {},
     "execution_count": 16
    }
   ],
   "source": [
    "df_train['data'] = df_train['data'].str.replace('\\n|\\t', '')\n",
    "df_train.head(3)"
   ]
  },
  {
   "source": [
    "- null 값이 있는지 확인"
   ],
   "cell_type": "markdown",
   "metadata": {}
  },
  {
   "cell_type": "code",
   "execution_count": 17,
   "metadata": {},
   "outputs": [
    {
     "output_type": "execute_result",
     "data": {
      "text/plain": [
       "data      0\n",
       "target    0\n",
       "dtype: int64"
      ]
     },
     "metadata": {},
     "execution_count": 17
    }
   ],
   "source": [
    "df_train.isna().sum()"
   ]
  },
  {
   "source": [
    "- 공백인 값이 있는지 확인 후 제거"
   ],
   "cell_type": "markdown",
   "metadata": {}
  },
  {
   "cell_type": "code",
   "execution_count": 18,
   "metadata": {},
   "outputs": [
    {
     "output_type": "execute_result",
     "data": {
      "text/plain": [
       "data      289\n",
       "target    289\n",
       "dtype: int64"
      ]
     },
     "metadata": {},
     "execution_count": 18
    }
   ],
   "source": [
    "df_train[df_train.data == ''].count()"
   ]
  },
  {
   "cell_type": "code",
   "execution_count": 19,
   "metadata": {},
   "outputs": [
    {
     "output_type": "execute_result",
     "data": {
      "text/plain": [
       "data      0\n",
       "target    0\n",
       "dtype: int64"
      ]
     },
     "metadata": {},
     "execution_count": 19
    }
   ],
   "source": [
    "df_train = df_train.drop(df_train[df_train.data == ''].index)\n",
    "df_train[df_train.data == ''].count()"
   ]
  },
  {
   "source": [
    "df_train.shape"
   ],
   "cell_type": "code",
   "metadata": {},
   "execution_count": 20,
   "outputs": [
    {
     "output_type": "execute_result",
     "data": {
      "text/plain": [
       "(11025, 2)"
      ]
     },
     "metadata": {},
     "execution_count": 20
    }
   ]
  },
  {
   "cell_type": "code",
   "execution_count": 21,
   "metadata": {},
   "outputs": [
    {
     "output_type": "stream",
     "name": "stdout",
     "text": [
      "What I did NOT get with my drive (CD300i) is the System Install CD youlisted as #1.  Any ideas about how I can get one?  I bought my IIvx 8/120from Direct Express in Chicago (no complaints at all -- good price & goodservice).BTW, I've heard that the System Install CD can be used to boot the mac;however, my drive will NOT accept a CD caddy is the machine is off.  How canyou boot with it then?--Dave\n4\n"
     ]
    }
   ],
   "source": [
    "print(df_train.data[0])\n",
    "print(df_train.target[0])"
   ]
  },
  {
   "cell_type": "code",
   "execution_count": 22,
   "metadata": {},
   "outputs": [],
   "source": [
    "X_train = df_train.data\n",
    "y_train = df_train.target"
   ]
  },
  {
   "cell_type": "code",
   "execution_count": 23,
   "metadata": {},
   "outputs": [],
   "source": [
    "df_train.to_csv('../static/data/news/train.csv')"
   ]
  },
  {
   "source": [
    "### test 데이터"
   ],
   "cell_type": "markdown",
   "metadata": {}
  },
  {
   "cell_type": "code",
   "execution_count": 24,
   "metadata": {},
   "outputs": [],
   "source": [
    "test_news = fetch_20newsgroups(subset='test', random_state=156,\n",
    "                                remove=('headers', 'footers', 'quotes'))"
   ]
  },
  {
   "cell_type": "code",
   "execution_count": 25,
   "metadata": {},
   "outputs": [
    {
     "output_type": "execute_result",
     "data": {
      "text/plain": [
       "                                                data  target\n",
       "0   The tech support line for GCC is 1-800-231-1570.       4\n",
       "1  I recently saw a message here (posted by Bob S...      11\n",
       "2  I cant get through to the author of rtrace. Hi...       1"
      ],
      "text/html": "<div>\n<style scoped>\n    .dataframe tbody tr th:only-of-type {\n        vertical-align: middle;\n    }\n\n    .dataframe tbody tr th {\n        vertical-align: top;\n    }\n\n    .dataframe thead th {\n        text-align: right;\n    }\n</style>\n<table border=\"1\" class=\"dataframe\">\n  <thead>\n    <tr style=\"text-align: right;\">\n      <th></th>\n      <th>data</th>\n      <th>target</th>\n    </tr>\n  </thead>\n  <tbody>\n    <tr>\n      <th>0</th>\n      <td>The tech support line for GCC is 1-800-231-1570.</td>\n      <td>4</td>\n    </tr>\n    <tr>\n      <th>1</th>\n      <td>I recently saw a message here (posted by Bob S...</td>\n      <td>11</td>\n    </tr>\n    <tr>\n      <th>2</th>\n      <td>I cant get through to the author of rtrace. Hi...</td>\n      <td>1</td>\n    </tr>\n  </tbody>\n</table>\n</div>"
     },
     "metadata": {},
     "execution_count": 25
    }
   ],
   "source": [
    "df_test = pd.DataFrame(test_news.data, columns=['data'])\n",
    "df_test['target'] = test_news.target\n",
    "df_test.head(3)"
   ]
  },
  {
   "cell_type": "code",
   "execution_count": 26,
   "metadata": {},
   "outputs": [
    {
     "output_type": "execute_result",
     "data": {
      "text/plain": [
       "                                                data  target\n",
       "0   The tech support line for GCC is 1-800-231-1570.       4\n",
       "1  I recently saw a message here (posted by Bob S...      11\n",
       "2  I cant get through to the author of rtrace. Hi...       1"
      ],
      "text/html": "<div>\n<style scoped>\n    .dataframe tbody tr th:only-of-type {\n        vertical-align: middle;\n    }\n\n    .dataframe tbody tr th {\n        vertical-align: top;\n    }\n\n    .dataframe thead th {\n        text-align: right;\n    }\n</style>\n<table border=\"1\" class=\"dataframe\">\n  <thead>\n    <tr style=\"text-align: right;\">\n      <th></th>\n      <th>data</th>\n      <th>target</th>\n    </tr>\n  </thead>\n  <tbody>\n    <tr>\n      <th>0</th>\n      <td>The tech support line for GCC is 1-800-231-1570.</td>\n      <td>4</td>\n    </tr>\n    <tr>\n      <th>1</th>\n      <td>I recently saw a message here (posted by Bob S...</td>\n      <td>11</td>\n    </tr>\n    <tr>\n      <th>2</th>\n      <td>I cant get through to the author of rtrace. Hi...</td>\n      <td>1</td>\n    </tr>\n  </tbody>\n</table>\n</div>"
     },
     "metadata": {},
     "execution_count": 26
    }
   ],
   "source": [
    "df_test['data'] = df_test['data'].str.replace('\\n|\\t', '')\n",
    "df_test.head(3)"
   ]
  },
  {
   "source": [
    "- null 값 또는 공백 값이 있는지 확인"
   ],
   "cell_type": "markdown",
   "metadata": {}
  },
  {
   "cell_type": "code",
   "execution_count": 27,
   "metadata": {},
   "outputs": [
    {
     "output_type": "execute_result",
     "data": {
      "text/plain": [
       "data      0\n",
       "target    0\n",
       "dtype: int64"
      ]
     },
     "metadata": {},
     "execution_count": 27
    }
   ],
   "source": [
    "df_test.isna().sum()"
   ]
  },
  {
   "cell_type": "code",
   "execution_count": 28,
   "metadata": {},
   "outputs": [
    {
     "output_type": "execute_result",
     "data": {
      "text/plain": [
       "data      212\n",
       "target    212\n",
       "dtype: int64"
      ]
     },
     "metadata": {},
     "execution_count": 28
    }
   ],
   "source": [
    "df_test[df_test.data == ''].count()"
   ]
  },
  {
   "cell_type": "code",
   "execution_count": 29,
   "metadata": {},
   "outputs": [
    {
     "output_type": "execute_result",
     "data": {
      "text/plain": [
       "data      0\n",
       "target    0\n",
       "dtype: int64"
      ]
     },
     "metadata": {},
     "execution_count": 29
    }
   ],
   "source": [
    "df_test = df_test.drop(df_test[df_test.data == ''].index)\n",
    "df_test[df_test.data == ''].count()"
   ]
  },
  {
   "cell_type": "code",
   "execution_count": 30,
   "metadata": {},
   "outputs": [
    {
     "output_type": "execute_result",
     "data": {
      "text/plain": [
       "(7320, 2)"
      ]
     },
     "metadata": {},
     "execution_count": 30
    }
   ],
   "source": [
    "df_test.shape"
   ]
  },
  {
   "cell_type": "code",
   "execution_count": 31,
   "metadata": {},
   "outputs": [],
   "source": [
    "X_test = df_test.data\n",
    "y_test = df_test.target"
   ]
  },
  {
   "cell_type": "code",
   "execution_count": 32,
   "metadata": {},
   "outputs": [],
   "source": [
    "df_test.to_csv('../static/data/news/test.csv')"
   ]
  },
  {
   "source": [
    "### (1) CountVectorizer + LogisticRegression"
   ],
   "cell_type": "markdown",
   "metadata": {}
  },
  {
   "cell_type": "code",
   "execution_count": 24,
   "metadata": {},
   "outputs": [
    {
     "output_type": "stream",
     "name": "stdout",
     "text": [
      "Wall time: 7min 5s\n",
      "Wall time: 3.88 s\n",
      "Count Vectorizer + Logistic Regression 정확도: 0.6053\n"
     ]
    }
   ],
   "source": [
    "pipeline = Pipeline([\n",
    "    ('count_vect', CountVectorizer(ngram_range=(1, 2))),\n",
    "    ('lr_clf', LogisticRegression())\n",
    "])\n",
    "%time pipeline.fit(X_train, y_train)\n",
    "%time pred = pipeline.predict(X_test)\n",
    "acc = accuracy_score(y_test, pred)\n",
    "print(f'Count Vectorizer + Logistic Regression 정확도: {acc:.4f}')"
   ]
  },
  {
   "cell_type": "code",
   "execution_count": 25,
   "metadata": {},
   "outputs": [
    {
     "output_type": "execute_result",
     "data": {
      "text/plain": [
       "['../static/model/news_count_lr.pkl']"
      ]
     },
     "metadata": {},
     "execution_count": 25
    }
   ],
   "source": [
    "joblib.dump(pipeline, '../static/model/news_count_lr.pkl')"
   ]
  },
  {
   "cell_type": "code",
   "execution_count": 26,
   "metadata": {},
   "outputs": [],
   "source": [
    "del pipeline"
   ]
  },
  {
   "source": [
    "### (2) TfidfVectorizer + LogisticRegression"
   ],
   "cell_type": "markdown",
   "metadata": {}
  },
  {
   "cell_type": "code",
   "execution_count": 27,
   "metadata": {},
   "outputs": [
    {
     "output_type": "stream",
     "name": "stdout",
     "text": [
      "Wall time: 5min 36s\n",
      "Tfidf Vectorizer + Logistic Regression 정확도: 0.6714\n"
     ]
    }
   ],
   "source": [
    "pipeline = Pipeline([\n",
    "    ('tfidf_vect', TfidfVectorizer(ngram_range=(1, 2))),\n",
    "    ('lr_clf', LogisticRegression())\n",
    "])\n",
    "%time pipeline.fit(X_train, y_train)\n",
    "pred = pipeline.predict(X_test)\n",
    "acc = accuracy_score(y_test, pred)\n",
    "print(f'Tfidf Vectorizer + Logistic Regression 정확도: {acc:.4f}')"
   ]
  },
  {
   "cell_type": "code",
   "execution_count": 28,
   "metadata": {},
   "outputs": [
    {
     "output_type": "execute_result",
     "data": {
      "text/plain": [
       "['../static/model/news_tfidf_lr.pkl']"
      ]
     },
     "metadata": {},
     "execution_count": 28
    }
   ],
   "source": [
    "joblib.dump(pipeline, '../static/model/news_tfidf_lr.pkl')"
   ]
  },
  {
   "cell_type": "code",
   "execution_count": 29,
   "metadata": {},
   "outputs": [],
   "source": [
    "del pipeline"
   ]
  },
  {
   "source": [
    "### (3) TfidfVectorizer + SVM"
   ],
   "cell_type": "markdown",
   "metadata": {}
  },
  {
   "cell_type": "code",
   "execution_count": 30,
   "metadata": {},
   "outputs": [],
   "source": [
    "from sklearn.svm import SVC"
   ]
  },
  {
   "cell_type": "code",
   "execution_count": 31,
   "metadata": {},
   "outputs": [
    {
     "output_type": "stream",
     "name": "stdout",
     "text": [
      "Wall time: 6min 21s\n",
      "Tfidf Vectorizer + Support Vector Machine 정확도: 0.6442\n"
     ]
    }
   ],
   "source": [
    "pipeline = Pipeline([\n",
    "    ('tfidf_vect', TfidfVectorizer(ngram_range=(1, 2))),\n",
    "    ('sv_clf', SVC())\n",
    "])\n",
    "%time pipeline.fit(X_train, y_train)\n",
    "pred = pipeline.predict(X_test)\n",
    "acc = accuracy_score(y_test, pred)\n",
    "print(f'Tfidf Vectorizer + Support Vector Machine 정확도: {acc:.4f}')"
   ]
  },
  {
   "cell_type": "code",
   "execution_count": 32,
   "metadata": {},
   "outputs": [
    {
     "output_type": "execute_result",
     "data": {
      "text/plain": [
       "['../static/model/news_tfidf_sv.pkl']"
      ]
     },
     "metadata": {},
     "execution_count": 32
    }
   ],
   "source": [
    "joblib.dump(pipeline, '../static/model/news_tfidf_sv.pkl')"
   ]
  },
  {
   "cell_type": "code",
   "execution_count": 33,
   "metadata": {},
   "outputs": [],
   "source": [
    "del pipeline"
   ]
  },
  {
   "cell_type": "code",
   "execution_count": null,
   "metadata": {},
   "outputs": [],
   "source": []
  }
 ]
}