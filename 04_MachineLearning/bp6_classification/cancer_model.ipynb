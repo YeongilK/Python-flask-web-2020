{
 "metadata": {
  "language_info": {
   "codemirror_mode": {
    "name": "ipython",
    "version": 3
   },
   "file_extension": ".py",
   "mimetype": "text/x-python",
   "name": "python",
   "nbconvert_exporter": "python",
   "pygments_lexer": "ipython3",
   "version": "3.8.5-final"
  },
  "orig_nbformat": 2,
  "kernelspec": {
   "name": "python3",
   "display_name": "Python 3",
   "language": "python"
  }
 },
 "nbformat": 4,
 "nbformat_minor": 2,
 "cells": [
  {
   "source": [
    "# 유방암 모델 생성"
   ],
   "cell_type": "markdown",
   "metadata": {}
  },
  {
   "cell_type": "code",
   "execution_count": 1,
   "metadata": {},
   "outputs": [],
   "source": [
    "import pandas as pd \n",
    "import joblib\n",
    "from sklearn.preprocessing import StandardScaler, MinMaxScaler\n",
    "from sklearn.linear_model import LogisticRegression\n",
    "from sklearn.svm import SVC\n",
    "from sklearn.ensemble import RandomForestClassifier\n",
    "from sklearn.tree import DecisionTreeClassifier\n",
    "from sklearn.model_selection import GridSearchCV\n",
    "from sklearn.metrics import accuracy_score"
   ]
  },
  {
   "cell_type": "code",
   "execution_count": 2,
   "metadata": {},
   "outputs": [
    {
     "output_type": "execute_result",
     "data": {
      "text/plain": [
       "   mean radius  mean texture  mean perimeter  mean area  mean smoothness  \\\n",
       "0        25.73         17.46          174.20     2010.0          0.11490   \n",
       "1        13.50         12.71           85.69      566.2          0.07376   \n",
       "2        17.35         23.06          111.00      933.1          0.08662   \n",
       "3        11.61         16.02           75.46      408.2          0.10880   \n",
       "4        11.87         21.54           76.83      432.0          0.06613   \n",
       "\n",
       "   mean compactness  mean concavity  mean concave points  mean symmetry  \\\n",
       "0           0.23630        0.336800             0.191300         0.1956   \n",
       "1           0.03614        0.002758             0.004419         0.1365   \n",
       "2           0.06290        0.028910             0.028370         0.1564   \n",
       "3           0.11680        0.070970             0.044970         0.1886   \n",
       "4           0.10640        0.087770             0.023860         0.1349   \n",
       "\n",
       "   mean fractal dimension  ...  worst texture  worst perimeter  worst area  \\\n",
       "0                 0.06121  ...          23.58           229.30      3234.0   \n",
       "1                 0.05335  ...          16.94            95.48       698.7   \n",
       "2                 0.05307  ...          31.47           128.20      1218.0   \n",
       "3                 0.06320  ...          19.67            81.93       475.7   \n",
       "4                 0.06612  ...          28.18            83.51       507.2   \n",
       "\n",
       "   worst smoothness  worst compactness  worst concavity  worst concave points  \\\n",
       "0           0.15300            0.59370          0.64510               0.27560   \n",
       "1           0.09023            0.05836          0.01379               0.02210   \n",
       "2           0.12400            0.14860          0.12110               0.08235   \n",
       "3           0.14150            0.21700          0.23020               0.11050   \n",
       "4           0.09457            0.33990          0.32180               0.08750   \n",
       "\n",
       "   worst symmetry  worst fractal dimension  target  \n",
       "0          0.3690                  0.08815       0  \n",
       "1          0.2267                  0.06192       1  \n",
       "2          0.2452                  0.06515       0  \n",
       "3          0.2787                  0.07427       1  \n",
       "4          0.2305                  0.09952       1  \n",
       "\n",
       "[5 rows x 31 columns]"
      ],
      "text/html": "<div>\n<style scoped>\n    .dataframe tbody tr th:only-of-type {\n        vertical-align: middle;\n    }\n\n    .dataframe tbody tr th {\n        vertical-align: top;\n    }\n\n    .dataframe thead th {\n        text-align: right;\n    }\n</style>\n<table border=\"1\" class=\"dataframe\">\n  <thead>\n    <tr style=\"text-align: right;\">\n      <th></th>\n      <th>mean radius</th>\n      <th>mean texture</th>\n      <th>mean perimeter</th>\n      <th>mean area</th>\n      <th>mean smoothness</th>\n      <th>mean compactness</th>\n      <th>mean concavity</th>\n      <th>mean concave points</th>\n      <th>mean symmetry</th>\n      <th>mean fractal dimension</th>\n      <th>...</th>\n      <th>worst texture</th>\n      <th>worst perimeter</th>\n      <th>worst area</th>\n      <th>worst smoothness</th>\n      <th>worst compactness</th>\n      <th>worst concavity</th>\n      <th>worst concave points</th>\n      <th>worst symmetry</th>\n      <th>worst fractal dimension</th>\n      <th>target</th>\n    </tr>\n  </thead>\n  <tbody>\n    <tr>\n      <th>0</th>\n      <td>25.73</td>\n      <td>17.46</td>\n      <td>174.20</td>\n      <td>2010.0</td>\n      <td>0.11490</td>\n      <td>0.23630</td>\n      <td>0.336800</td>\n      <td>0.191300</td>\n      <td>0.1956</td>\n      <td>0.06121</td>\n      <td>...</td>\n      <td>23.58</td>\n      <td>229.30</td>\n      <td>3234.0</td>\n      <td>0.15300</td>\n      <td>0.59370</td>\n      <td>0.64510</td>\n      <td>0.27560</td>\n      <td>0.3690</td>\n      <td>0.08815</td>\n      <td>0</td>\n    </tr>\n    <tr>\n      <th>1</th>\n      <td>13.50</td>\n      <td>12.71</td>\n      <td>85.69</td>\n      <td>566.2</td>\n      <td>0.07376</td>\n      <td>0.03614</td>\n      <td>0.002758</td>\n      <td>0.004419</td>\n      <td>0.1365</td>\n      <td>0.05335</td>\n      <td>...</td>\n      <td>16.94</td>\n      <td>95.48</td>\n      <td>698.7</td>\n      <td>0.09023</td>\n      <td>0.05836</td>\n      <td>0.01379</td>\n      <td>0.02210</td>\n      <td>0.2267</td>\n      <td>0.06192</td>\n      <td>1</td>\n    </tr>\n    <tr>\n      <th>2</th>\n      <td>17.35</td>\n      <td>23.06</td>\n      <td>111.00</td>\n      <td>933.1</td>\n      <td>0.08662</td>\n      <td>0.06290</td>\n      <td>0.028910</td>\n      <td>0.028370</td>\n      <td>0.1564</td>\n      <td>0.05307</td>\n      <td>...</td>\n      <td>31.47</td>\n      <td>128.20</td>\n      <td>1218.0</td>\n      <td>0.12400</td>\n      <td>0.14860</td>\n      <td>0.12110</td>\n      <td>0.08235</td>\n      <td>0.2452</td>\n      <td>0.06515</td>\n      <td>0</td>\n    </tr>\n    <tr>\n      <th>3</th>\n      <td>11.61</td>\n      <td>16.02</td>\n      <td>75.46</td>\n      <td>408.2</td>\n      <td>0.10880</td>\n      <td>0.11680</td>\n      <td>0.070970</td>\n      <td>0.044970</td>\n      <td>0.1886</td>\n      <td>0.06320</td>\n      <td>...</td>\n      <td>19.67</td>\n      <td>81.93</td>\n      <td>475.7</td>\n      <td>0.14150</td>\n      <td>0.21700</td>\n      <td>0.23020</td>\n      <td>0.11050</td>\n      <td>0.2787</td>\n      <td>0.07427</td>\n      <td>1</td>\n    </tr>\n    <tr>\n      <th>4</th>\n      <td>11.87</td>\n      <td>21.54</td>\n      <td>76.83</td>\n      <td>432.0</td>\n      <td>0.06613</td>\n      <td>0.10640</td>\n      <td>0.087770</td>\n      <td>0.023860</td>\n      <td>0.1349</td>\n      <td>0.06612</td>\n      <td>...</td>\n      <td>28.18</td>\n      <td>83.51</td>\n      <td>507.2</td>\n      <td>0.09457</td>\n      <td>0.33990</td>\n      <td>0.32180</td>\n      <td>0.08750</td>\n      <td>0.2305</td>\n      <td>0.09952</td>\n      <td>1</td>\n    </tr>\n  </tbody>\n</table>\n<p>5 rows × 31 columns</p>\n</div>"
     },
     "metadata": {},
     "execution_count": 2
    }
   ],
   "source": [
    "df_train = pd.read_csv('../static/data/cancer_train.csv')\n",
    "df_train.head()"
   ]
  },
  {
   "cell_type": "code",
   "execution_count": 3,
   "metadata": {},
   "outputs": [
    {
     "output_type": "execute_result",
     "data": {
      "text/plain": [
       "((426, 30), (426,))"
      ]
     },
     "metadata": {},
     "execution_count": 3
    }
   ],
   "source": [
    "y_train = df_train.target.values\n",
    "scaler = MinMaxScaler()\n",
    "X_train = scaler.fit_transform(df_train.drop(columns='target', axis=1))\n",
    "X_train.shape, y_train.shape"
   ]
  },
  {
   "cell_type": "code",
   "execution_count": 4,
   "metadata": {},
   "outputs": [
    {
     "output_type": "execute_result",
     "data": {
      "text/plain": [
       "((143, 30), (143,))"
      ]
     },
     "metadata": {},
     "execution_count": 4
    }
   ],
   "source": [
    "df_test = pd.read_csv('../static/data/cancer_test.csv')\n",
    "y_test = df_test.target.values\n",
    "X_test = scaler.fit_transform(df_test.drop(columns='target', axis=1))\n",
    "X_test.shape, y_test.shape"
   ]
  },
  {
   "cell_type": "code",
   "execution_count": null,
   "metadata": {},
   "outputs": [],
   "source": []
  }
 ]
}