{
 "metadata": {
  "language_info": {
   "codemirror_mode": {
    "name": "ipython",
    "version": 3
   },
   "file_extension": ".py",
   "mimetype": "text/x-python",
   "name": "python",
   "nbconvert_exporter": "python",
   "pygments_lexer": "ipython3",
   "version": "3.8.5-final"
  },
  "orig_nbformat": 2,
  "kernelspec": {
   "name": "python3",
   "display_name": "Python 3",
   "language": "python"
  }
 },
 "nbformat": 4,
 "nbformat_minor": 2,
 "cells": [
  {
   "source": [
    "# Boston 집값 다중 선형회귀"
   ],
   "cell_type": "markdown",
   "metadata": {}
  },
  {
   "cell_type": "code",
   "execution_count": 1,
   "metadata": {},
   "outputs": [],
   "source": [
    "import numpy as np \n",
    "import pandas as pd"
   ]
  },
  {
   "cell_type": "code",
   "execution_count": 2,
   "metadata": {},
   "outputs": [
    {
     "output_type": "execute_result",
     "data": {
      "text/plain": [
       "      CRIM    ZN  INDUS  CHAS    NOX     RM   AGE     DIS   RAD    TAX  \\\n",
       "0  6.53876   0.0  18.10   1.0  0.631  7.016  97.5  1.2024  24.0  666.0   \n",
       "1  0.01870  85.0   4.15   0.0  0.429  6.516  27.7  8.5353   4.0  351.0   \n",
       "2  9.82349   0.0  18.10   0.0  0.671  6.794  98.8  1.3580  24.0  666.0   \n",
       "3  8.98296   0.0  18.10   1.0  0.770  6.212  97.4  2.1222  24.0  666.0   \n",
       "4  0.15445  25.0   5.13   0.0  0.453  6.145  29.2  7.8148   8.0  284.0   \n",
       "\n",
       "   PTRATIO       B  LSTAT  target  \n",
       "0     20.2  392.05   2.96    50.0  \n",
       "1     17.9  392.43   6.36    23.1  \n",
       "2     20.2  396.90  21.24    13.3  \n",
       "3     20.2  377.73  17.60    17.8  \n",
       "4     19.7  390.68   6.86    23.3  "
      ],
      "text/html": "<div>\n<style scoped>\n    .dataframe tbody tr th:only-of-type {\n        vertical-align: middle;\n    }\n\n    .dataframe tbody tr th {\n        vertical-align: top;\n    }\n\n    .dataframe thead th {\n        text-align: right;\n    }\n</style>\n<table border=\"1\" class=\"dataframe\">\n  <thead>\n    <tr style=\"text-align: right;\">\n      <th></th>\n      <th>CRIM</th>\n      <th>ZN</th>\n      <th>INDUS</th>\n      <th>CHAS</th>\n      <th>NOX</th>\n      <th>RM</th>\n      <th>AGE</th>\n      <th>DIS</th>\n      <th>RAD</th>\n      <th>TAX</th>\n      <th>PTRATIO</th>\n      <th>B</th>\n      <th>LSTAT</th>\n      <th>target</th>\n    </tr>\n  </thead>\n  <tbody>\n    <tr>\n      <th>0</th>\n      <td>6.53876</td>\n      <td>0.0</td>\n      <td>18.10</td>\n      <td>1.0</td>\n      <td>0.631</td>\n      <td>7.016</td>\n      <td>97.5</td>\n      <td>1.2024</td>\n      <td>24.0</td>\n      <td>666.0</td>\n      <td>20.2</td>\n      <td>392.05</td>\n      <td>2.96</td>\n      <td>50.0</td>\n    </tr>\n    <tr>\n      <th>1</th>\n      <td>0.01870</td>\n      <td>85.0</td>\n      <td>4.15</td>\n      <td>0.0</td>\n      <td>0.429</td>\n      <td>6.516</td>\n      <td>27.7</td>\n      <td>8.5353</td>\n      <td>4.0</td>\n      <td>351.0</td>\n      <td>17.9</td>\n      <td>392.43</td>\n      <td>6.36</td>\n      <td>23.1</td>\n    </tr>\n    <tr>\n      <th>2</th>\n      <td>9.82349</td>\n      <td>0.0</td>\n      <td>18.10</td>\n      <td>0.0</td>\n      <td>0.671</td>\n      <td>6.794</td>\n      <td>98.8</td>\n      <td>1.3580</td>\n      <td>24.0</td>\n      <td>666.0</td>\n      <td>20.2</td>\n      <td>396.90</td>\n      <td>21.24</td>\n      <td>13.3</td>\n    </tr>\n    <tr>\n      <th>3</th>\n      <td>8.98296</td>\n      <td>0.0</td>\n      <td>18.10</td>\n      <td>1.0</td>\n      <td>0.770</td>\n      <td>6.212</td>\n      <td>97.4</td>\n      <td>2.1222</td>\n      <td>24.0</td>\n      <td>666.0</td>\n      <td>20.2</td>\n      <td>377.73</td>\n      <td>17.60</td>\n      <td>17.8</td>\n    </tr>\n    <tr>\n      <th>4</th>\n      <td>0.15445</td>\n      <td>25.0</td>\n      <td>5.13</td>\n      <td>0.0</td>\n      <td>0.453</td>\n      <td>6.145</td>\n      <td>29.2</td>\n      <td>7.8148</td>\n      <td>8.0</td>\n      <td>284.0</td>\n      <td>19.7</td>\n      <td>390.68</td>\n      <td>6.86</td>\n      <td>23.3</td>\n    </tr>\n  </tbody>\n</table>\n</div>"
     },
     "metadata": {},
     "execution_count": 2
    }
   ],
   "source": [
    "df = pd.read_csv('../static/data/boston_train.csv')\n",
    "df.head()"
   ]
  },
  {
   "cell_type": "code",
   "execution_count": 3,
   "metadata": {},
   "outputs": [
    {
     "output_type": "stream",
     "name": "stdout",
     "text": [
      "['CRIM', 'ZN', 'INDUS', 'CHAS', 'NOX', 'RM', 'AGE', 'DIS', 'RAD', 'TAX']\n"
     ]
    }
   ],
   "source": [
    "feature_list = list(df.columns[:-4])\n",
    "print(feature_list)"
   ]
  },
  {
   "cell_type": "code",
   "execution_count": 4,
   "metadata": {},
   "outputs": [
    {
     "output_type": "execute_result",
     "data": {
      "text/plain": [
       "((379, 10), (379,))"
      ]
     },
     "metadata": {},
     "execution_count": 4
    }
   ],
   "source": [
    "X = df[feature_list].values\n",
    "y = df.target.values\n",
    "X.shape, y.shape"
   ]
  },
  {
   "cell_type": "code",
   "execution_count": 5,
   "metadata": {},
   "outputs": [
    {
     "output_type": "execute_result",
     "data": {
      "text/plain": [
       "LinearRegression()"
      ]
     },
     "metadata": {},
     "execution_count": 5
    }
   ],
   "source": [
    "from sklearn.linear_model import LinearRegression\n",
    "lr = LinearRegression()\n",
    "lr.fit(X, y)"
   ]
  },
  {
   "cell_type": "code",
   "execution_count": 6,
   "metadata": {},
   "outputs": [
    {
     "output_type": "stream",
     "name": "stdout",
     "text": [
      "[ -0.19878607   0.07199088  -0.12275418   5.84042453 -13.86027594\n   6.69673948  -0.05275528  -1.83295231   0.21417975  -0.01526654]\n3.9996300394210635\n"
     ]
    }
   ],
   "source": [
    "weight, bias = lr.coef_, lr.intercept_\n",
    "print(weight)\n",
    "print(bias)"
   ]
  },
  {
   "source": [
    "### 테스트 데이터셋"
   ],
   "cell_type": "markdown",
   "metadata": {}
  },
  {
   "cell_type": "code",
   "execution_count": 7,
   "metadata": {},
   "outputs": [
    {
     "output_type": "execute_result",
     "data": {
      "text/plain": [
       "      CRIM   ZN  INDUS  CHAS    NOX     RM   AGE     DIS   RAD    TAX  \\\n",
       "0  0.17446  0.0  10.59   1.0  0.489  5.960  92.1  3.8771   4.0  277.0   \n",
       "1  0.75026  0.0   8.14   0.0  0.538  5.924  94.1  4.3996   4.0  307.0   \n",
       "2  0.09744  0.0   5.96   0.0  0.499  5.841  61.4  3.3779   5.0  279.0   \n",
       "3  9.39063  0.0  18.10   0.0  0.740  5.627  93.9  1.8172  24.0  666.0   \n",
       "4  1.46336  0.0  19.58   0.0  0.605  7.489  90.8  1.9709   5.0  403.0   \n",
       "\n",
       "   PTRATIO       B  LSTAT  target  \n",
       "0     18.6  393.25  17.27    21.7  \n",
       "1     21.0  394.33  16.30    15.6  \n",
       "2     19.2  377.56  11.41    20.0  \n",
       "3     20.2  396.90  22.88    12.8  \n",
       "4     14.7  374.43   1.73    50.0  "
      ],
      "text/html": "<div>\n<style scoped>\n    .dataframe tbody tr th:only-of-type {\n        vertical-align: middle;\n    }\n\n    .dataframe tbody tr th {\n        vertical-align: top;\n    }\n\n    .dataframe thead th {\n        text-align: right;\n    }\n</style>\n<table border=\"1\" class=\"dataframe\">\n  <thead>\n    <tr style=\"text-align: right;\">\n      <th></th>\n      <th>CRIM</th>\n      <th>ZN</th>\n      <th>INDUS</th>\n      <th>CHAS</th>\n      <th>NOX</th>\n      <th>RM</th>\n      <th>AGE</th>\n      <th>DIS</th>\n      <th>RAD</th>\n      <th>TAX</th>\n      <th>PTRATIO</th>\n      <th>B</th>\n      <th>LSTAT</th>\n      <th>target</th>\n    </tr>\n  </thead>\n  <tbody>\n    <tr>\n      <th>0</th>\n      <td>0.17446</td>\n      <td>0.0</td>\n      <td>10.59</td>\n      <td>1.0</td>\n      <td>0.489</td>\n      <td>5.960</td>\n      <td>92.1</td>\n      <td>3.8771</td>\n      <td>4.0</td>\n      <td>277.0</td>\n      <td>18.6</td>\n      <td>393.25</td>\n      <td>17.27</td>\n      <td>21.7</td>\n    </tr>\n    <tr>\n      <th>1</th>\n      <td>0.75026</td>\n      <td>0.0</td>\n      <td>8.14</td>\n      <td>0.0</td>\n      <td>0.538</td>\n      <td>5.924</td>\n      <td>94.1</td>\n      <td>4.3996</td>\n      <td>4.0</td>\n      <td>307.0</td>\n      <td>21.0</td>\n      <td>394.33</td>\n      <td>16.30</td>\n      <td>15.6</td>\n    </tr>\n    <tr>\n      <th>2</th>\n      <td>0.09744</td>\n      <td>0.0</td>\n      <td>5.96</td>\n      <td>0.0</td>\n      <td>0.499</td>\n      <td>5.841</td>\n      <td>61.4</td>\n      <td>3.3779</td>\n      <td>5.0</td>\n      <td>279.0</td>\n      <td>19.2</td>\n      <td>377.56</td>\n      <td>11.41</td>\n      <td>20.0</td>\n    </tr>\n    <tr>\n      <th>3</th>\n      <td>9.39063</td>\n      <td>0.0</td>\n      <td>18.10</td>\n      <td>0.0</td>\n      <td>0.740</td>\n      <td>5.627</td>\n      <td>93.9</td>\n      <td>1.8172</td>\n      <td>24.0</td>\n      <td>666.0</td>\n      <td>20.2</td>\n      <td>396.90</td>\n      <td>22.88</td>\n      <td>12.8</td>\n    </tr>\n    <tr>\n      <th>4</th>\n      <td>1.46336</td>\n      <td>0.0</td>\n      <td>19.58</td>\n      <td>0.0</td>\n      <td>0.605</td>\n      <td>7.489</td>\n      <td>90.8</td>\n      <td>1.9709</td>\n      <td>5.0</td>\n      <td>403.0</td>\n      <td>14.7</td>\n      <td>374.43</td>\n      <td>1.73</td>\n      <td>50.0</td>\n    </tr>\n  </tbody>\n</table>\n</div>"
     },
     "metadata": {},
     "execution_count": 7
    }
   ],
   "source": [
    "df_test = pd.read_csv('../static/data/boston_test.csv')\n",
    "df_test.head()"
   ]
  },
  {
   "cell_type": "code",
   "execution_count": 8,
   "metadata": {},
   "outputs": [
    {
     "output_type": "execute_result",
     "data": {
      "text/plain": [
       "(127, 14)"
      ]
     },
     "metadata": {},
     "execution_count": 8
    }
   ],
   "source": [
    "df_test.shape"
   ]
  },
  {
   "cell_type": "code",
   "execution_count": 9,
   "metadata": {},
   "outputs": [],
   "source": [
    "index = 15"
   ]
  },
  {
   "cell_type": "code",
   "execution_count": 10,
   "metadata": {},
   "outputs": [
    {
     "output_type": "execute_result",
     "data": {
      "text/plain": [
       "(array([1.0290e-01, 3.0000e+01, 4.9300e+00, 0.0000e+00, 4.2800e-01,\n",
       "        6.3580e+00, 5.2900e+01, 7.0355e+00, 6.0000e+00, 3.0000e+02]),\n",
       " 22.2)"
      ]
     },
     "metadata": {},
     "execution_count": 10
    }
   ],
   "source": [
    "X_test = df_test[feature_list].values[index, :]\n",
    "y_test = df_test.target[index]\n",
    "X_test, y_test"
   ]
  },
  {
   "cell_type": "code",
   "execution_count": 11,
   "metadata": {},
   "outputs": [
    {
     "output_type": "execute_result",
     "data": {
      "text/plain": [
       "23.198021242942993"
      ]
     },
     "metadata": {},
     "execution_count": 11
    }
   ],
   "source": [
    "pred = np.dot(X_test, weight.T) + bias\n",
    "pred"
   ]
  },
  {
   "cell_type": "code",
   "execution_count": 12,
   "metadata": {},
   "outputs": [
    {
     "output_type": "execute_result",
     "data": {
      "text/plain": [
       "23.2"
      ]
     },
     "metadata": {},
     "execution_count": 12
    }
   ],
   "source": [
    "tmp = lr.predict(X_test.reshape(1,-1))\n",
    "pred = np.round(tmp[0], 2)\n",
    "pred"
   ]
  },
  {
   "cell_type": "code",
   "execution_count": null,
   "metadata": {},
   "outputs": [],
   "source": []
  }
 ]
}