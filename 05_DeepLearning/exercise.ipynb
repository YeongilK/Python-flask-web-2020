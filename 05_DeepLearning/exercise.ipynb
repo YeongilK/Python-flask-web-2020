{
 "metadata": {
  "language_info": {
   "codemirror_mode": {
    "name": "ipython",
    "version": 3
   },
   "file_extension": ".py",
   "mimetype": "text/x-python",
   "name": "python",
   "nbconvert_exporter": "python",
   "pygments_lexer": "ipython3",
   "version": "3.7.9-final"
  },
  "orig_nbformat": 2,
  "kernelspec": {
   "name": "python3",
   "display_name": "Python 3.7.9 64-bit (conda)",
   "metadata": {
    "interpreter": {
     "hash": "7cb492cb6235df10f660bf20ca996a82e153fe2f6bb41b888bde94ed1fd6d679"
    }
   }
  }
 },
 "nbformat": 4,
 "nbformat_minor": 2,
 "cells": [
  {
   "cell_type": "code",
   "execution_count": 1,
   "metadata": {},
   "outputs": [
    {
     "output_type": "execute_result",
     "data": {
      "text/plain": [
       "'2.1.0'"
      ]
     },
     "metadata": {},
     "execution_count": 1
    }
   ],
   "source": [
    "import tensorflow as tf\n",
    "tf.__version__"
   ]
  },
  {
   "cell_type": "code",
   "execution_count": 2,
   "metadata": {},
   "outputs": [],
   "source": [
    "import requests\n",
    "from urllib.parse import urlparse"
   ]
  },
  {
   "cell_type": "code",
   "execution_count": 5,
   "metadata": {},
   "outputs": [],
   "source": [
    "key_fd = open('./my_util/openweatherkey.txt', mode='r')\n",
    "oweather_key = key_fd.read(100)\n",
    "key_fd.close()\n",
    "\n",
    "lat = 37.550966; lng = 126.849532\n",
    "url = f'http://api.openweathermap.org/data/2.5/weather?lat={lat}&lon={lng}&appid={oweather_key}&units=metric&lang=kr'\n",
    "result = requests.get(urlparse(url).geturl()).json()"
   ]
  },
  {
   "cell_type": "code",
   "execution_count": 6,
   "metadata": {},
   "outputs": [
    {
     "output_type": "execute_result",
     "data": {
      "text/plain": [
       "{'coord': {'lon': 126.8495, 'lat': 37.551},\n",
       " 'weather': [{'id': 800, 'main': 'Clear', 'description': '맑음', 'icon': '01d'}],\n",
       " 'base': 'stations',\n",
       " 'main': {'temp': 10.14,\n",
       "  'feels_like': 6.08,\n",
       "  'temp_min': 9,\n",
       "  'temp_max': 12,\n",
       "  'pressure': 1024,\n",
       "  'humidity': 25},\n",
       " 'visibility': 10000,\n",
       " 'wind': {'speed': 1.54, 'deg': 10},\n",
       " 'clouds': {'all': 0},\n",
       " 'dt': 1614307848,\n",
       " 'sys': {'type': 1,\n",
       "  'id': 8105,\n",
       "  'country': 'KR',\n",
       "  'sunrise': 1614290922,\n",
       "  'sunset': 1614331364},\n",
       " 'timezone': 32400,\n",
       " 'id': 1948005,\n",
       " 'name': 'Kwangmyŏng',\n",
       " 'cod': 200}"
      ]
     },
     "metadata": {},
     "execution_count": 6
    }
   ],
   "source": [
    "result"
   ]
  }
 ]
}